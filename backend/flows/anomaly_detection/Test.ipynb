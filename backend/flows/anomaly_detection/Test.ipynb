{
 "cells": [
  {
   "cell_type": "code",
   "execution_count": 1,
   "metadata": {},
   "outputs": [],
   "source": [
    "import anomaly_detection"
   ]
  },
  {
   "cell_type": "code",
   "execution_count": 2,
   "metadata": {},
   "outputs": [
    {
     "data": {
      "text/html": [
       "<pre style=\"white-space:pre;overflow-x:auto;line-height:normal;font-family:Menlo,'DejaVu Sans Mono',consolas,'Courier New',monospace\">19:09:08.642 | <span style=\"color: #008080; text-decoration-color: #008080\">INFO</span>    | prefect.engine - Created task run 'generate_waveforms-bbeeb2f5' for task 'generate_waveforms'\n",
       "</pre>\n"
      ],
      "text/plain": [
       "19:09:08.642 | \u001b[36mINFO\u001b[0m    | prefect.engine - Created task run 'generate_waveforms-bbeeb2f5' for task 'generate_waveforms'\n"
      ]
     },
     "metadata": {},
     "output_type": "display_data"
    },
    {
     "data": {
      "text/html": [
       "<pre style=\"white-space:pre;overflow-x:auto;line-height:normal;font-family:Menlo,'DejaVu Sans Mono',consolas,'Courier New',monospace\">19:09:08.678 | <span style=\"color: #008080; text-decoration-color: #008080\">INFO</span>    | Task run 'generate_waveforms-bbeeb2f5' - Waveforms generated!\n",
       "</pre>\n"
      ],
      "text/plain": [
       "19:09:08.678 | \u001b[36mINFO\u001b[0m    | Task run 'generate_waveforms-bbeeb2f5' - Waveforms generated!\n"
      ]
     },
     "metadata": {},
     "output_type": "display_data"
    },
    {
     "data": {
      "text/html": [
       "<pre style=\"white-space:pre;overflow-x:auto;line-height:normal;font-family:Menlo,'DejaVu Sans Mono',consolas,'Courier New',monospace\">19:09:08.702 | <span style=\"color: #008080; text-decoration-color: #008080\">INFO</span>    | Task run 'generate_waveforms-bbeeb2f5' - Finished in state <span style=\"color: #008000; text-decoration-color: #008000\">Completed</span>()\n",
       "</pre>\n"
      ],
      "text/plain": [
       "19:09:08.702 | \u001b[36mINFO\u001b[0m    | Task run 'generate_waveforms-bbeeb2f5' - Finished in state \u001b[32mCompleted\u001b[0m()\n"
      ]
     },
     "metadata": {},
     "output_type": "display_data"
    },
    {
     "data": {
      "text/html": [
       "<div>\n",
       "<style scoped>\n",
       "    .dataframe tbody tr th:only-of-type {\n",
       "        vertical-align: middle;\n",
       "    }\n",
       "\n",
       "    .dataframe tbody tr th {\n",
       "        vertical-align: top;\n",
       "    }\n",
       "\n",
       "    .dataframe thead th {\n",
       "        text-align: right;\n",
       "    }\n",
       "</style>\n",
       "<table border=\"1\" class=\"dataframe\">\n",
       "  <thead>\n",
       "    <tr style=\"text-align: right;\">\n",
       "      <th></th>\n",
       "      <th>point_0</th>\n",
       "      <th>point_1</th>\n",
       "      <th>point_2</th>\n",
       "      <th>point_3</th>\n",
       "      <th>point_4</th>\n",
       "      <th>point_5</th>\n",
       "      <th>point_6</th>\n",
       "      <th>point_7</th>\n",
       "      <th>point_8</th>\n",
       "      <th>point_9</th>\n",
       "      <th>...</th>\n",
       "      <th>point_92</th>\n",
       "      <th>point_93</th>\n",
       "      <th>point_94</th>\n",
       "      <th>point_95</th>\n",
       "      <th>point_96</th>\n",
       "      <th>point_97</th>\n",
       "      <th>point_98</th>\n",
       "      <th>point_99</th>\n",
       "      <th>label</th>\n",
       "      <th>label_function</th>\n",
       "    </tr>\n",
       "  </thead>\n",
       "  <tbody>\n",
       "    <tr>\n",
       "      <th>0</th>\n",
       "      <td>0.958924</td>\n",
       "      <td>0.982641</td>\n",
       "      <td>0.996339</td>\n",
       "      <td>0.999881</td>\n",
       "      <td>0.993230</td>\n",
       "      <td>0.976453</td>\n",
       "      <td>0.949722</td>\n",
       "      <td>0.913309</td>\n",
       "      <td>0.867586</td>\n",
       "      <td>0.813018</td>\n",
       "      <td>...</td>\n",
       "      <td>-0.913309</td>\n",
       "      <td>-0.949722</td>\n",
       "      <td>-0.976453</td>\n",
       "      <td>-0.993230</td>\n",
       "      <td>-0.999881</td>\n",
       "      <td>-0.996339</td>\n",
       "      <td>-0.982641</td>\n",
       "      <td>-0.958924</td>\n",
       "      <td>odd</td>\n",
       "      <td>is_odd_waveform</td>\n",
       "    </tr>\n",
       "    <tr>\n",
       "      <th>1</th>\n",
       "      <td>0.283662</td>\n",
       "      <td>0.185520</td>\n",
       "      <td>0.085486</td>\n",
       "      <td>-0.015419</td>\n",
       "      <td>-0.116167</td>\n",
       "      <td>-0.215730</td>\n",
       "      <td>-0.313094</td>\n",
       "      <td>-0.407267</td>\n",
       "      <td>-0.497288</td>\n",
       "      <td>-0.582239</td>\n",
       "      <td>...</td>\n",
       "      <td>-0.407267</td>\n",
       "      <td>-0.313094</td>\n",
       "      <td>-0.215730</td>\n",
       "      <td>-0.116167</td>\n",
       "      <td>-0.015419</td>\n",
       "      <td>0.085486</td>\n",
       "      <td>0.185520</td>\n",
       "      <td>0.283662</td>\n",
       "      <td>even</td>\n",
       "      <td>is_even_waveform</td>\n",
       "    </tr>\n",
       "    <tr>\n",
       "      <th>2</th>\n",
       "      <td>-125.000000</td>\n",
       "      <td>-117.576257</td>\n",
       "      <td>-110.452422</td>\n",
       "      <td>-103.622311</td>\n",
       "      <td>-97.079740</td>\n",
       "      <td>-90.818526</td>\n",
       "      <td>-84.832485</td>\n",
       "      <td>-79.115432</td>\n",
       "      <td>-73.661186</td>\n",
       "      <td>-68.463561</td>\n",
       "      <td>...</td>\n",
       "      <td>79.115432</td>\n",
       "      <td>84.832485</td>\n",
       "      <td>90.818526</td>\n",
       "      <td>97.079740</td>\n",
       "      <td>103.622311</td>\n",
       "      <td>110.452422</td>\n",
       "      <td>117.576257</td>\n",
       "      <td>125.000000</td>\n",
       "      <td>odd</td>\n",
       "      <td>is_odd_waveform</td>\n",
       "    </tr>\n",
       "    <tr>\n",
       "      <th>3</th>\n",
       "      <td>25.000000</td>\n",
       "      <td>24.000102</td>\n",
       "      <td>23.020610</td>\n",
       "      <td>22.061524</td>\n",
       "      <td>21.122845</td>\n",
       "      <td>20.204571</td>\n",
       "      <td>19.306703</td>\n",
       "      <td>18.429242</td>\n",
       "      <td>17.572187</td>\n",
       "      <td>16.735537</td>\n",
       "      <td>...</td>\n",
       "      <td>18.429242</td>\n",
       "      <td>19.306703</td>\n",
       "      <td>20.204571</td>\n",
       "      <td>21.122845</td>\n",
       "      <td>22.061524</td>\n",
       "      <td>23.020610</td>\n",
       "      <td>24.000102</td>\n",
       "      <td>25.000000</td>\n",
       "      <td>even</td>\n",
       "      <td>is_even_waveform</td>\n",
       "    </tr>\n",
       "  </tbody>\n",
       "</table>\n",
       "<p>4 rows × 102 columns</p>\n",
       "</div>"
      ],
      "text/plain": [
       "      point_0     point_1     point_2     point_3    point_4    point_5  \\\n",
       "0    0.958924    0.982641    0.996339    0.999881   0.993230   0.976453   \n",
       "1    0.283662    0.185520    0.085486   -0.015419  -0.116167  -0.215730   \n",
       "2 -125.000000 -117.576257 -110.452422 -103.622311 -97.079740 -90.818526   \n",
       "3   25.000000   24.000102   23.020610   22.061524  21.122845  20.204571   \n",
       "\n",
       "     point_6    point_7    point_8    point_9  ...   point_92   point_93  \\\n",
       "0   0.949722   0.913309   0.867586   0.813018  ...  -0.913309  -0.949722   \n",
       "1  -0.313094  -0.407267  -0.497288  -0.582239  ...  -0.407267  -0.313094   \n",
       "2 -84.832485 -79.115432 -73.661186 -68.463561  ...  79.115432  84.832485   \n",
       "3  19.306703  18.429242  17.572187  16.735537  ...  18.429242  19.306703   \n",
       "\n",
       "    point_94   point_95    point_96    point_97    point_98    point_99  \\\n",
       "0  -0.976453  -0.993230   -0.999881   -0.996339   -0.982641   -0.958924   \n",
       "1  -0.215730  -0.116167   -0.015419    0.085486    0.185520    0.283662   \n",
       "2  90.818526  97.079740  103.622311  110.452422  117.576257  125.000000   \n",
       "3  20.204571  21.122845   22.061524   23.020610   24.000102   25.000000   \n",
       "\n",
       "   label    label_function  \n",
       "0    odd   is_odd_waveform  \n",
       "1   even  is_even_waveform  \n",
       "2    odd   is_odd_waveform  \n",
       "3   even  is_even_waveform  \n",
       "\n",
       "[4 rows x 102 columns]"
      ]
     },
     "execution_count": 2,
     "metadata": {},
     "output_type": "execute_result"
    }
   ],
   "source": [
    "await anomaly_detection.generate_waveforms()"
   ]
  },
  {
   "cell_type": "code",
   "execution_count": 10,
   "metadata": {},
   "outputs": [
    {
     "data": {
      "text/html": [
       "<pre style=\"white-space:pre;overflow-x:auto;line-height:normal;font-family:Menlo,'DejaVu Sans Mono',consolas,'Courier New',monospace\">21:33:32.939 | <span style=\"color: #008080; text-decoration-color: #008080\">INFO</span>    | prefect.engine - Created task run 'generate_spike_waveforms-dfd1d593' for task 'generate_spike_waveforms'\n",
       "</pre>\n"
      ],
      "text/plain": [
       "21:33:32.939 | \u001b[36mINFO\u001b[0m    | prefect.engine - Created task run 'generate_spike_waveforms-dfd1d593' for task 'generate_spike_waveforms'\n"
      ]
     },
     "metadata": {},
     "output_type": "display_data"
    },
    {
     "data": {
      "text/html": [
       "<pre style=\"white-space:pre;overflow-x:auto;line-height:normal;font-family:Menlo,'DejaVu Sans Mono',consolas,'Courier New',monospace\">21:33:32.972 | <span style=\"color: #008080; text-decoration-color: #008080\">INFO</span>    | Task run 'generate_spike_waveforms-dfd1d593' - Spike waveforms generated!\n",
       "</pre>\n"
      ],
      "text/plain": [
       "21:33:32.972 | \u001b[36mINFO\u001b[0m    | Task run 'generate_spike_waveforms-dfd1d593' - Spike waveforms generated!\n"
      ]
     },
     "metadata": {},
     "output_type": "display_data"
    },
    {
     "data": {
      "text/html": [
       "<pre style=\"white-space:pre;overflow-x:auto;line-height:normal;font-family:Menlo,'DejaVu Sans Mono',consolas,'Courier New',monospace\">21:33:32.994 | <span style=\"color: #008080; text-decoration-color: #008080\">INFO</span>    | Task run 'generate_spike_waveforms-dfd1d593' - Finished in state <span style=\"color: #008000; text-decoration-color: #008000\">Completed</span>()\n",
       "</pre>\n"
      ],
      "text/plain": [
       "21:33:32.994 | \u001b[36mINFO\u001b[0m    | Task run 'generate_spike_waveforms-dfd1d593' - Finished in state \u001b[32mCompleted\u001b[0m()\n"
      ]
     },
     "metadata": {},
     "output_type": "display_data"
    }
   ],
   "source": [
    "import spike_detection\n",
    "\n",
    "df = await spike_detection.generate_spike_waveforms()\n",
    "df.to_clipboard()"
   ]
  },
  {
   "cell_type": "code",
   "execution_count": 13,
   "metadata": {},
   "outputs": [
    {
     "data": {
      "application/vnd.plotly.v1+json": {
       "config": {
        "plotlyServerURL": "https://plot.ly"
       },
       "data": [
        {
         "hovertemplate": "point_0=0.0<br>Point Index=%{x}<br>Value=%{y}<extra></extra>",
         "legendgroup": "0.0",
         "line": {
          "color": "#636efa",
          "dash": "solid"
         },
         "marker": {
          "symbol": "circle"
         },
         "mode": "lines",
         "name": "0.0",
         "orientation": "v",
         "showlegend": true,
         "type": "scatter",
         "x": [
          "point_1",
          "point_2",
          "point_3",
          "point_4",
          "point_5",
          "point_6",
          "point_7",
          "point_8",
          "point_9",
          "point_10",
          "point_11",
          "point_12",
          "point_13",
          "point_14",
          "point_15",
          "point_16",
          "point_17",
          "point_18",
          "point_19",
          "point_20",
          "point_21",
          "point_22",
          "point_23",
          "point_24",
          "point_25",
          "point_26",
          "point_27",
          "point_28",
          "point_29",
          "point_30",
          "point_31",
          "point_32",
          "point_33",
          "point_34",
          "point_35",
          "point_36",
          "point_37",
          "point_38",
          "point_39",
          "point_40",
          "point_41",
          "point_42",
          "point_43",
          "point_44",
          "point_45",
          "point_46",
          "point_47",
          "point_48",
          "point_49",
          "point_50",
          "point_51",
          "point_52",
          "point_53",
          "point_54",
          "point_55",
          "point_56",
          "point_57",
          "point_58",
          "point_59",
          "point_60",
          "point_61",
          "point_62",
          "point_63",
          "point_64",
          "point_65",
          "point_66",
          "point_67",
          "point_68",
          "point_69",
          "point_70",
          "point_71",
          "point_72",
          "point_73",
          "point_74",
          "point_75",
          "point_76",
          "point_77",
          "point_78",
          "point_79",
          "point_80",
          "point_81",
          "point_82",
          "point_83",
          "point_84",
          "point_85",
          "point_86",
          "point_87",
          "point_88",
          "point_89",
          "point_90",
          "point_91",
          "point_92",
          "point_93",
          "point_94",
          "point_95",
          "point_96",
          "point_97",
          "point_98",
          "point_99",
          "label"
         ],
         "xaxis": "x",
         "y": [
          0.1008384202581046,
          0.2006488565226854,
          0.2984138044476411,
          0.3931366121483298,
          0.48385164043793466,
          0.5696341069089657,
          0.6496095135057065,
          0.7229625614794605,
          0.7889454628442574,
          0.8468855636029834,
          0.8961922010299563,
          0.9363627251042848,
          0.9669876227092996,
          0.9877546923600838,
          0.9984522269003895,
          0.9989711717233568,
          0.9893062365143401,
          0.9695559491823237,
          0.9399216514301312,
          0.9007054462029555,
          0.8523071179396752,
          0.7952200570230491,
          0.7300262299764464,
          0.6573902466827755,
          0.5780525851065732,
          0.4928220425889235,
          0.40256749066949654,
          0.30820901749007684,
          0.2107085480771929,
          0.11106003812412972,
          0.010279341240534697,
          -0.09060614703340773,
          -0.19056796287548539,
          -0.28858705872043244,
          -0.38366419180611233,
          -0.47483011082223947,
          -0.5611554368152017,
          -0.6417601376193878,
          -0.7158224992291902,
          -0.7825875026542022,
          -0.8413745208608701,
          -0.8915842573351402,
          -0.9327048555318336,
          -0.9643171169287782,
          -0.9860987744909296,
          -0.9978277779792126,
          -0.9993845576124357,
          -0.9907532430056771,
          -0.9720218249588334,
          -0.9433812584459996,
          -0.9051235159501367,
          -0.8576386109880517,
          -0.8014106221689697,
          -0.7370127583189133,
          -0.6651015149788224,
          -0.586409981847235,
          -0.5017403693939113,
          -0.4119558308308628,
          -0.31797166281061867,
          -0.22074597455506334,
          -0.12126992053716677,
          -0.020557596287260064,
          0.08036429967028173,
          0.18046693235991093,
          0.27872981867755725,
          0.37415123057121996,
          0.4657584070256517,
          0.5526174707464059,
          0.6338429484489058,
          0.7086067976992182,
          0.7761468482835805,
          0.8357745720522589,
          0.8868821020290788,
          0.9289484292312513,
          0.9615447140268235,
          0.9843386578838236,
          0.9970978909438748,
          0.9996923408861117,
          0.9920955589323228,
          0.9743849894755358,
          0.9467411805833543,
          0.9094459434244625,
          0.8628794793817836,
          0.8075165041395626,
          0.7439214082568444,
          0.6727425035622647,
          0.5947054140244975,
          0.510605678474283,
          0.4213006405886069,
          0.32770070881349983,
          0.23076007532505177,
          0.13146698864295842,
          0.03083367906114098,
          -0.07011396040064677,
          -0.1703468323280965,
          -0.26884312591038406,
          -0.3645987336558887,
          -0.45663748763377376,
          -0.5440211108893698,
          "no_spike"
         ],
         "yaxis": "y"
        },
        {
         "hovertemplate": "point_0=0.04967141530112327<br>Point Index=%{x}<br>Value=%{y}<extra></extra>",
         "legendgroup": "0.04967141530112327",
         "line": {
          "color": "#EF553B",
          "dash": "solid"
         },
         "marker": {
          "symbol": "circle"
         },
         "mode": "lines",
         "name": "0.04967141530112327",
         "orientation": "v",
         "showlegend": true,
         "type": "scatter",
         "x": [
          "point_1",
          "point_2",
          "point_3",
          "point_4",
          "point_5",
          "point_6",
          "point_7",
          "point_8",
          "point_9",
          "point_10",
          "point_11",
          "point_12",
          "point_13",
          "point_14",
          "point_15",
          "point_16",
          "point_17",
          "point_18",
          "point_19",
          "point_20",
          "point_21",
          "point_22",
          "point_23",
          "point_24",
          "point_25",
          "point_26",
          "point_27",
          "point_28",
          "point_29",
          "point_30",
          "point_31",
          "point_32",
          "point_33",
          "point_34",
          "point_35",
          "point_36",
          "point_37",
          "point_38",
          "point_39",
          "point_40",
          "point_41",
          "point_42",
          "point_43",
          "point_44",
          "point_45",
          "point_46",
          "point_47",
          "point_48",
          "point_49",
          "point_50",
          "point_51",
          "point_52",
          "point_53",
          "point_54",
          "point_55",
          "point_56",
          "point_57",
          "point_58",
          "point_59",
          "point_60",
          "point_61",
          "point_62",
          "point_63",
          "point_64",
          "point_65",
          "point_66",
          "point_67",
          "point_68",
          "point_69",
          "point_70",
          "point_71",
          "point_72",
          "point_73",
          "point_74",
          "point_75",
          "point_76",
          "point_77",
          "point_78",
          "point_79",
          "point_80",
          "point_81",
          "point_82",
          "point_83",
          "point_84",
          "point_85",
          "point_86",
          "point_87",
          "point_88",
          "point_89",
          "point_90",
          "point_91",
          "point_92",
          "point_93",
          "point_94",
          "point_95",
          "point_96",
          "point_97",
          "point_98",
          "point_99",
          "label"
         ],
         "xaxis": "x",
         "y": [
          0.08701199014098614,
          0.26541771033275463,
          0.4507167900884437,
          0.3697212746759962,
          0.4604379447430166,
          0.7275553884597048,
          0.7263529864209974,
          0.6760151228859652,
          0.8432014672028538,
          0.8005437943217372,
          0.8496192256729307,
          0.9605589522608882,
          0.7756595982435198,
          0.8152629091087805,
          0.9422234739762922,
          0.8976880596899144,
          1.0207309697738676,
          0.8787535416302026,
          0.798691281296602,
          1.0472703230951108,
          0.8297294878910216,
          0.8019728774918414,
          0.5875514113551007,
          0.6029519742302571,
          0.5891448440775598,
          0.3777226848466932,
          0.44013729250406375,
          0.24814514849819636,
          0.18153917309786521,
          0.050889376901190025,
          0.19550715969142848,
          -0.09195586950720112,
          -0.29633905577107544,
          -0.20633256751011353,
          -0.5057485568032145,
          -0.4539437513217639,
          -0.7571224492031793,
          -0.7745787425092309,
          -0.6961363756422778,
          -0.7087408446546611,
          -0.824237692741873,
          -0.9031490855739643,
          -0.9628152250907624,
          -1.112169315965521,
          -1.0580831953304004,
          -1.0438916550751913,
          -0.8936723349905441,
          -0.956391414048831,
          -1.1483258404951067,
          4.0890271384934795,
          -0.9436317439917684,
          -0.9253308110186476,
          -0.740242993284883,
          -0.6339128060693182,
          -0.5719735030672025,
          -0.6703317341694989,
          -0.5326616069790328,
          -0.3788294876905064,
          -0.22041715009838275,
          -0.26866339833959235,
          -0.13983581820354848,
          -0.1311910936878629,
          -0.03925636273778535,
          0.26171951459933074,
          0.4143538215346395,
          0.3669502184131866,
          0.5661116968148541,
          0.5887810732511694,
          0.5693309729883933,
          0.7447463582500596,
          0.9299505049301774,
          0.8321919681412637,
          1.0433464676104793,
          0.6669739188222769,
          1.0437349644643459,
          0.9930433647076407,
          0.967197155897288,
          1.008868418539662,
          0.7933386674722336,
          0.9524178006917846,
          0.982452437734529,
          1.057235347898614,
          0.8110524575544188,
          0.7266671438502438,
          0.6937457038983907,
          0.7642827153324722,
          0.6275805249904659,
          0.45762965809757905,
          0.4726273838999425,
          0.33740846374830386,
          0.3276245743783407,
          0.061261679255223175,
          -0.0019325355986358449,
          -0.10932477571386254,
          -0.31669832714130836,
          -0.23923109820392646,
          -0.33849320643789976,
          -0.45612614196952767,
          -0.5674798242268845,
          "spike"
         ],
         "yaxis": "y"
        },
        {
         "hovertemplate": "point_0=1.0<br>Point Index=%{x}<br>Value=%{y}<extra></extra>",
         "legendgroup": "1.0",
         "line": {
          "color": "#00cc96",
          "dash": "solid"
         },
         "marker": {
          "symbol": "circle"
         },
         "mode": "lines",
         "name": "1.0",
         "orientation": "v",
         "showlegend": true,
         "type": "scatter",
         "x": [
          "point_1",
          "point_2",
          "point_3",
          "point_4",
          "point_5",
          "point_6",
          "point_7",
          "point_8",
          "point_9",
          "point_10",
          "point_11",
          "point_12",
          "point_13",
          "point_14",
          "point_15",
          "point_16",
          "point_17",
          "point_18",
          "point_19",
          "point_20",
          "point_21",
          "point_22",
          "point_23",
          "point_24",
          "point_25",
          "point_26",
          "point_27",
          "point_28",
          "point_29",
          "point_30",
          "point_31",
          "point_32",
          "point_33",
          "point_34",
          "point_35",
          "point_36",
          "point_37",
          "point_38",
          "point_39",
          "point_40",
          "point_41",
          "point_42",
          "point_43",
          "point_44",
          "point_45",
          "point_46",
          "point_47",
          "point_48",
          "point_49",
          "point_50",
          "point_51",
          "point_52",
          "point_53",
          "point_54",
          "point_55",
          "point_56",
          "point_57",
          "point_58",
          "point_59",
          "point_60",
          "point_61",
          "point_62",
          "point_63",
          "point_64",
          "point_65",
          "point_66",
          "point_67",
          "point_68",
          "point_69",
          "point_70",
          "point_71",
          "point_72",
          "point_73",
          "point_74",
          "point_75",
          "point_76",
          "point_77",
          "point_78",
          "point_79",
          "point_80",
          "point_81",
          "point_82",
          "point_83",
          "point_84",
          "point_85",
          "point_86",
          "point_87",
          "point_88",
          "point_89",
          "point_90",
          "point_91",
          "point_92",
          "point_93",
          "point_94",
          "point_95",
          "point_96",
          "point_97",
          "point_98",
          "point_99",
          "label"
         ],
         "xaxis": "x",
         "y": [
          0.9949028158568303,
          0.9796632259996998,
          0.9544365884201449,
          0.9194800727522776,
          0.8751500385908233,
          0.82189840263017,
          0.7602680316591506,
          0.6908872083770674,
          0.6144632264484674,
          0.5317751800910392,
          0.4436660217022285,
          0.3510339684920502,
          0.25482334572604864,
          0.15601495992575853,
          0.05561610016580674,
          -0.04534973060188524,
          -0.1458532495141353,
          -0.24486988668507892,
          -0.3413902300489206,
          -0.43443031567828566,
          -0.5230416586748752,
          -0.6063209223738354,
          -0.6834191272904034,
          -0.7535503059294446,
          -0.815999515227557,
          -0.8701301249459654,
          -0.9153903077136358,
          -0.9513186645587279,
          -0.9775489285796396,
          -0.993813698804694,
          -0.9999471661761239,
          -0.9958868038686729,
          -0.981674004711079,
          -0.9574536592123347,
          -0.9234726784944765,
          -0.8800774771896732,
          -0.8277104419618857,
          -0.7669054216542901,
          -0.69828228503756,
          -0.6225406016393301,
          -0.5404525100747903,
          -0.45285484658127084,
          -0.3606406140014481,
          -0.2647498781834829,
          -0.16616018460355267,
          -0.06587659290724678,
          0.03507856903860484,
          0.13567612713271912,
          0.23489055281917826,
          0.33171041770321597,
          0.42514870442477243,
          0.5142528686769626,
          0.5981145497935533,
          0.6758788309121296,
          0.7467529543114478,
          0.810014403075603,
          0.865018266697566,
          0.9112038155344026,
          0.9481002170917641,
          0.9753313358637337,
          0.9926195677967009,
          0.9997886702873213,
          0.9967655588645231,
          0.983581052239521,
          0.9603695581285238,
          0.9273677030509753,
          0.8849119200716687,
          0.8334350190781794,
          0.7734617745574747,
          0.7056035758515253,
          0.6305521944291881,
          0.5490727317130796,
          0.4619958193539013,
          0.3702091514654802,
          0.2746484351440477,
          0.17628785152548898,
          0.07613012462407193,
          -0.02480370080544784,
          -0.12548466817409182,
          -0.22488639862108173,
          -0.3219955542979381,
          -0.41582216870771727,
          -0.5054097387880672,
          -0.5898449758557073,
          -0.6682671160076287,
          -0.7398766950653171,
          -0.80394369860703,
          -0.859815004003662,
          -0.9069210385913591,
          -0.9447815861050266,
          -0.973010682179788,
          -0.9913205490138658,
          -0.9995245290814802,
          -0.9975389879884077,
          -0.9853841670717991,
          -0.9631839770525324,
          -0.9311647348436916,
          -0.8896528563926016,
          -0.8390715290764524,
          "no_spike"
         ],
         "yaxis": "y"
        },
        {
         "hovertemplate": "point_0=0.8584629257949585<br>Point Index=%{x}<br>Value=%{y}<extra></extra>",
         "legendgroup": "0.8584629257949585",
         "line": {
          "color": "#ab63fa",
          "dash": "solid"
         },
         "marker": {
          "symbol": "circle"
         },
         "mode": "lines",
         "name": "0.8584629257949585",
         "orientation": "v",
         "showlegend": true,
         "type": "scatter",
         "x": [
          "point_1",
          "point_2",
          "point_3",
          "point_4",
          "point_5",
          "point_6",
          "point_7",
          "point_8",
          "point_9",
          "point_10",
          "point_11",
          "point_12",
          "point_13",
          "point_14",
          "point_15",
          "point_16",
          "point_17",
          "point_18",
          "point_19",
          "point_20",
          "point_21",
          "point_22",
          "point_23",
          "point_24",
          "point_25",
          "point_26",
          "point_27",
          "point_28",
          "point_29",
          "point_30",
          "point_31",
          "point_32",
          "point_33",
          "point_34",
          "point_35",
          "point_36",
          "point_37",
          "point_38",
          "point_39",
          "point_40",
          "point_41",
          "point_42",
          "point_43",
          "point_44",
          "point_45",
          "point_46",
          "point_47",
          "point_48",
          "point_49",
          "point_50",
          "point_51",
          "point_52",
          "point_53",
          "point_54",
          "point_55",
          "point_56",
          "point_57",
          "point_58",
          "point_59",
          "point_60",
          "point_61",
          "point_62",
          "point_63",
          "point_64",
          "point_65",
          "point_66",
          "point_67",
          "point_68",
          "point_69",
          "point_70",
          "point_71",
          "point_72",
          "point_73",
          "point_74",
          "point_75",
          "point_76",
          "point_77",
          "point_78",
          "point_79",
          "point_80",
          "point_81",
          "point_82",
          "point_83",
          "point_84",
          "point_85",
          "point_86",
          "point_87",
          "point_88",
          "point_89",
          "point_90",
          "point_91",
          "point_92",
          "point_93",
          "point_94",
          "point_95",
          "point_96",
          "point_97",
          "point_98",
          "point_99",
          "label"
         ],
         "xaxis": "x",
         "y": [
          0.9528382835802943,
          0.9453917743470228,
          0.874208861497983,
          0.9033515015856767,
          0.9155551242722771,
          1.010516992751223,
          0.7777258129423344,
          0.7166422474493438,
          0.6070186348718507,
          0.33989805856113503,
          0.44101463415730685,
          0.35705698948615283,
          0.5011475569745772,
          0.13677886344764628,
          0.085770834399168,
          -0.048820907572409575,
          -0.2627210532760885,
          -0.13058760523357688,
          -0.2661969267802432,
          -0.35532712097398095,
          -0.6139804041543491,
          -0.46604149128022543,
          -0.8236042335696315,
          -0.6948645965494176,
          -0.5969539526465591,
          -0.9691837574590343,
          -0.972020080673913,
          -0.9413535280499639,
          -1.0278964939912596,
          3.8511199580886926,
          -0.9930908686955212,
          -1.1021171752412835,
          -0.9343147616475609,
          -1.049396082635715,
          -0.7684792379927226,
          -0.9584028064232969,
          -0.8599165935824533,
          -0.6855536999173231,
          -0.8213687166809555,
          -0.5997946081789172,
          -0.4097382346465475,
          -0.6136031700373936,
          -0.34217722814821766,
          -0.23876159875864053,
          -0.08797789742582163,
          -0.18957166399505498,
          -0.09696709226982278,
          0.1878702836944089,
          0.26458902014249686,
          0.3567597027378036,
          0.45979352537447,
          0.4462503965191135,
          0.6213399195096536,
          0.7051860782419977,
          0.6753178125088111,
          0.9965918541900787,
          0.9124015587887447,
          0.7920734658141377,
          1.013755577955147,
          0.8778631688410015,
          1.071328028170946,
          1.1156482281880618,
          0.914697327029352,
          1.0799186651639532,
          1.0016476508221737,
          1.0095737190504244,
          1.0745912183370634,
          0.8088962074778924,
          0.6980881581217258,
          0.616652132888973,
          0.5489711659326443,
          0.5413625607716691,
          0.4961110168355657,
          0.3978782313984821,
          0.35736676004765006,
          0.1775880407132797,
          0.2214835323398036,
          -0.05126938412924345,
          0.14653224848487006,
          -0.1623196638445811,
          -0.40771130993956634,
          -0.5229114185138285,
          -0.45716249726374864,
          -0.6121912543882924,
          -0.5968670665984195,
          -0.6925529326079626,
          -0.8112265898727172,
          -0.9444943758105024,
          -1.0584057610599455,
          -0.9894330813117287,
          -0.8873708027474407,
          -0.9699111746008454,
          -1.124098406952679,
          -0.9802208954032895,
          -0.9468524290989154,
          -1.0515697206726458,
          -0.9157922242491388,
          -0.8838319845480016,
          -0.9533685588595148,
          "spike"
         ],
         "yaxis": "y"
        }
       ],
       "layout": {
        "legend": {
         "title": {
          "text": "point_0"
         },
         "tracegroupgap": 0
        },
        "template": {
         "data": {
          "bar": [
           {
            "error_x": {
             "color": "#2a3f5f"
            },
            "error_y": {
             "color": "#2a3f5f"
            },
            "marker": {
             "line": {
              "color": "#E5ECF6",
              "width": 0.5
             },
             "pattern": {
              "fillmode": "overlay",
              "size": 10,
              "solidity": 0.2
             }
            },
            "type": "bar"
           }
          ],
          "barpolar": [
           {
            "marker": {
             "line": {
              "color": "#E5ECF6",
              "width": 0.5
             },
             "pattern": {
              "fillmode": "overlay",
              "size": 10,
              "solidity": 0.2
             }
            },
            "type": "barpolar"
           }
          ],
          "carpet": [
           {
            "aaxis": {
             "endlinecolor": "#2a3f5f",
             "gridcolor": "white",
             "linecolor": "white",
             "minorgridcolor": "white",
             "startlinecolor": "#2a3f5f"
            },
            "baxis": {
             "endlinecolor": "#2a3f5f",
             "gridcolor": "white",
             "linecolor": "white",
             "minorgridcolor": "white",
             "startlinecolor": "#2a3f5f"
            },
            "type": "carpet"
           }
          ],
          "choropleth": [
           {
            "colorbar": {
             "outlinewidth": 0,
             "ticks": ""
            },
            "type": "choropleth"
           }
          ],
          "contour": [
           {
            "colorbar": {
             "outlinewidth": 0,
             "ticks": ""
            },
            "colorscale": [
             [
              0,
              "#0d0887"
             ],
             [
              0.1111111111111111,
              "#46039f"
             ],
             [
              0.2222222222222222,
              "#7201a8"
             ],
             [
              0.3333333333333333,
              "#9c179e"
             ],
             [
              0.4444444444444444,
              "#bd3786"
             ],
             [
              0.5555555555555556,
              "#d8576b"
             ],
             [
              0.6666666666666666,
              "#ed7953"
             ],
             [
              0.7777777777777778,
              "#fb9f3a"
             ],
             [
              0.8888888888888888,
              "#fdca26"
             ],
             [
              1,
              "#f0f921"
             ]
            ],
            "type": "contour"
           }
          ],
          "contourcarpet": [
           {
            "colorbar": {
             "outlinewidth": 0,
             "ticks": ""
            },
            "type": "contourcarpet"
           }
          ],
          "heatmap": [
           {
            "colorbar": {
             "outlinewidth": 0,
             "ticks": ""
            },
            "colorscale": [
             [
              0,
              "#0d0887"
             ],
             [
              0.1111111111111111,
              "#46039f"
             ],
             [
              0.2222222222222222,
              "#7201a8"
             ],
             [
              0.3333333333333333,
              "#9c179e"
             ],
             [
              0.4444444444444444,
              "#bd3786"
             ],
             [
              0.5555555555555556,
              "#d8576b"
             ],
             [
              0.6666666666666666,
              "#ed7953"
             ],
             [
              0.7777777777777778,
              "#fb9f3a"
             ],
             [
              0.8888888888888888,
              "#fdca26"
             ],
             [
              1,
              "#f0f921"
             ]
            ],
            "type": "heatmap"
           }
          ],
          "heatmapgl": [
           {
            "colorbar": {
             "outlinewidth": 0,
             "ticks": ""
            },
            "colorscale": [
             [
              0,
              "#0d0887"
             ],
             [
              0.1111111111111111,
              "#46039f"
             ],
             [
              0.2222222222222222,
              "#7201a8"
             ],
             [
              0.3333333333333333,
              "#9c179e"
             ],
             [
              0.4444444444444444,
              "#bd3786"
             ],
             [
              0.5555555555555556,
              "#d8576b"
             ],
             [
              0.6666666666666666,
              "#ed7953"
             ],
             [
              0.7777777777777778,
              "#fb9f3a"
             ],
             [
              0.8888888888888888,
              "#fdca26"
             ],
             [
              1,
              "#f0f921"
             ]
            ],
            "type": "heatmapgl"
           }
          ],
          "histogram": [
           {
            "marker": {
             "pattern": {
              "fillmode": "overlay",
              "size": 10,
              "solidity": 0.2
             }
            },
            "type": "histogram"
           }
          ],
          "histogram2d": [
           {
            "colorbar": {
             "outlinewidth": 0,
             "ticks": ""
            },
            "colorscale": [
             [
              0,
              "#0d0887"
             ],
             [
              0.1111111111111111,
              "#46039f"
             ],
             [
              0.2222222222222222,
              "#7201a8"
             ],
             [
              0.3333333333333333,
              "#9c179e"
             ],
             [
              0.4444444444444444,
              "#bd3786"
             ],
             [
              0.5555555555555556,
              "#d8576b"
             ],
             [
              0.6666666666666666,
              "#ed7953"
             ],
             [
              0.7777777777777778,
              "#fb9f3a"
             ],
             [
              0.8888888888888888,
              "#fdca26"
             ],
             [
              1,
              "#f0f921"
             ]
            ],
            "type": "histogram2d"
           }
          ],
          "histogram2dcontour": [
           {
            "colorbar": {
             "outlinewidth": 0,
             "ticks": ""
            },
            "colorscale": [
             [
              0,
              "#0d0887"
             ],
             [
              0.1111111111111111,
              "#46039f"
             ],
             [
              0.2222222222222222,
              "#7201a8"
             ],
             [
              0.3333333333333333,
              "#9c179e"
             ],
             [
              0.4444444444444444,
              "#bd3786"
             ],
             [
              0.5555555555555556,
              "#d8576b"
             ],
             [
              0.6666666666666666,
              "#ed7953"
             ],
             [
              0.7777777777777778,
              "#fb9f3a"
             ],
             [
              0.8888888888888888,
              "#fdca26"
             ],
             [
              1,
              "#f0f921"
             ]
            ],
            "type": "histogram2dcontour"
           }
          ],
          "mesh3d": [
           {
            "colorbar": {
             "outlinewidth": 0,
             "ticks": ""
            },
            "type": "mesh3d"
           }
          ],
          "parcoords": [
           {
            "line": {
             "colorbar": {
              "outlinewidth": 0,
              "ticks": ""
             }
            },
            "type": "parcoords"
           }
          ],
          "pie": [
           {
            "automargin": true,
            "type": "pie"
           }
          ],
          "scatter": [
           {
            "fillpattern": {
             "fillmode": "overlay",
             "size": 10,
             "solidity": 0.2
            },
            "type": "scatter"
           }
          ],
          "scatter3d": [
           {
            "line": {
             "colorbar": {
              "outlinewidth": 0,
              "ticks": ""
             }
            },
            "marker": {
             "colorbar": {
              "outlinewidth": 0,
              "ticks": ""
             }
            },
            "type": "scatter3d"
           }
          ],
          "scattercarpet": [
           {
            "marker": {
             "colorbar": {
              "outlinewidth": 0,
              "ticks": ""
             }
            },
            "type": "scattercarpet"
           }
          ],
          "scattergeo": [
           {
            "marker": {
             "colorbar": {
              "outlinewidth": 0,
              "ticks": ""
             }
            },
            "type": "scattergeo"
           }
          ],
          "scattergl": [
           {
            "marker": {
             "colorbar": {
              "outlinewidth": 0,
              "ticks": ""
             }
            },
            "type": "scattergl"
           }
          ],
          "scattermapbox": [
           {
            "marker": {
             "colorbar": {
              "outlinewidth": 0,
              "ticks": ""
             }
            },
            "type": "scattermapbox"
           }
          ],
          "scatterpolar": [
           {
            "marker": {
             "colorbar": {
              "outlinewidth": 0,
              "ticks": ""
             }
            },
            "type": "scatterpolar"
           }
          ],
          "scatterpolargl": [
           {
            "marker": {
             "colorbar": {
              "outlinewidth": 0,
              "ticks": ""
             }
            },
            "type": "scatterpolargl"
           }
          ],
          "scatterternary": [
           {
            "marker": {
             "colorbar": {
              "outlinewidth": 0,
              "ticks": ""
             }
            },
            "type": "scatterternary"
           }
          ],
          "surface": [
           {
            "colorbar": {
             "outlinewidth": 0,
             "ticks": ""
            },
            "colorscale": [
             [
              0,
              "#0d0887"
             ],
             [
              0.1111111111111111,
              "#46039f"
             ],
             [
              0.2222222222222222,
              "#7201a8"
             ],
             [
              0.3333333333333333,
              "#9c179e"
             ],
             [
              0.4444444444444444,
              "#bd3786"
             ],
             [
              0.5555555555555556,
              "#d8576b"
             ],
             [
              0.6666666666666666,
              "#ed7953"
             ],
             [
              0.7777777777777778,
              "#fb9f3a"
             ],
             [
              0.8888888888888888,
              "#fdca26"
             ],
             [
              1,
              "#f0f921"
             ]
            ],
            "type": "surface"
           }
          ],
          "table": [
           {
            "cells": {
             "fill": {
              "color": "#EBF0F8"
             },
             "line": {
              "color": "white"
             }
            },
            "header": {
             "fill": {
              "color": "#C8D4E3"
             },
             "line": {
              "color": "white"
             }
            },
            "type": "table"
           }
          ]
         },
         "layout": {
          "annotationdefaults": {
           "arrowcolor": "#2a3f5f",
           "arrowhead": 0,
           "arrowwidth": 1
          },
          "autotypenumbers": "strict",
          "coloraxis": {
           "colorbar": {
            "outlinewidth": 0,
            "ticks": ""
           }
          },
          "colorscale": {
           "diverging": [
            [
             0,
             "#8e0152"
            ],
            [
             0.1,
             "#c51b7d"
            ],
            [
             0.2,
             "#de77ae"
            ],
            [
             0.3,
             "#f1b6da"
            ],
            [
             0.4,
             "#fde0ef"
            ],
            [
             0.5,
             "#f7f7f7"
            ],
            [
             0.6,
             "#e6f5d0"
            ],
            [
             0.7,
             "#b8e186"
            ],
            [
             0.8,
             "#7fbc41"
            ],
            [
             0.9,
             "#4d9221"
            ],
            [
             1,
             "#276419"
            ]
           ],
           "sequential": [
            [
             0,
             "#0d0887"
            ],
            [
             0.1111111111111111,
             "#46039f"
            ],
            [
             0.2222222222222222,
             "#7201a8"
            ],
            [
             0.3333333333333333,
             "#9c179e"
            ],
            [
             0.4444444444444444,
             "#bd3786"
            ],
            [
             0.5555555555555556,
             "#d8576b"
            ],
            [
             0.6666666666666666,
             "#ed7953"
            ],
            [
             0.7777777777777778,
             "#fb9f3a"
            ],
            [
             0.8888888888888888,
             "#fdca26"
            ],
            [
             1,
             "#f0f921"
            ]
           ],
           "sequentialminus": [
            [
             0,
             "#0d0887"
            ],
            [
             0.1111111111111111,
             "#46039f"
            ],
            [
             0.2222222222222222,
             "#7201a8"
            ],
            [
             0.3333333333333333,
             "#9c179e"
            ],
            [
             0.4444444444444444,
             "#bd3786"
            ],
            [
             0.5555555555555556,
             "#d8576b"
            ],
            [
             0.6666666666666666,
             "#ed7953"
            ],
            [
             0.7777777777777778,
             "#fb9f3a"
            ],
            [
             0.8888888888888888,
             "#fdca26"
            ],
            [
             1,
             "#f0f921"
            ]
           ]
          },
          "colorway": [
           "#636efa",
           "#EF553B",
           "#00cc96",
           "#ab63fa",
           "#FFA15A",
           "#19d3f3",
           "#FF6692",
           "#B6E880",
           "#FF97FF",
           "#FECB52"
          ],
          "font": {
           "color": "#2a3f5f"
          },
          "geo": {
           "bgcolor": "white",
           "lakecolor": "white",
           "landcolor": "#E5ECF6",
           "showlakes": true,
           "showland": true,
           "subunitcolor": "white"
          },
          "hoverlabel": {
           "align": "left"
          },
          "hovermode": "closest",
          "mapbox": {
           "style": "light"
          },
          "paper_bgcolor": "white",
          "plot_bgcolor": "#E5ECF6",
          "polar": {
           "angularaxis": {
            "gridcolor": "white",
            "linecolor": "white",
            "ticks": ""
           },
           "bgcolor": "#E5ECF6",
           "radialaxis": {
            "gridcolor": "white",
            "linecolor": "white",
            "ticks": ""
           }
          },
          "scene": {
           "xaxis": {
            "backgroundcolor": "#E5ECF6",
            "gridcolor": "white",
            "gridwidth": 2,
            "linecolor": "white",
            "showbackground": true,
            "ticks": "",
            "zerolinecolor": "white"
           },
           "yaxis": {
            "backgroundcolor": "#E5ECF6",
            "gridcolor": "white",
            "gridwidth": 2,
            "linecolor": "white",
            "showbackground": true,
            "ticks": "",
            "zerolinecolor": "white"
           },
           "zaxis": {
            "backgroundcolor": "#E5ECF6",
            "gridcolor": "white",
            "gridwidth": 2,
            "linecolor": "white",
            "showbackground": true,
            "ticks": "",
            "zerolinecolor": "white"
           }
          },
          "shapedefaults": {
           "line": {
            "color": "#2a3f5f"
           }
          },
          "ternary": {
           "aaxis": {
            "gridcolor": "white",
            "linecolor": "white",
            "ticks": ""
           },
           "baxis": {
            "gridcolor": "white",
            "linecolor": "white",
            "ticks": ""
           },
           "bgcolor": "#E5ECF6",
           "caxis": {
            "gridcolor": "white",
            "linecolor": "white",
            "ticks": ""
           }
          },
          "title": {
           "x": 0.05
          },
          "xaxis": {
           "automargin": true,
           "gridcolor": "white",
           "linecolor": "white",
           "ticks": "",
           "title": {
            "standoff": 15
           },
           "zerolinecolor": "white",
           "zerolinewidth": 2
          },
          "yaxis": {
           "automargin": true,
           "gridcolor": "white",
           "linecolor": "white",
           "ticks": "",
           "title": {
            "standoff": 15
           },
           "zerolinecolor": "white",
           "zerolinewidth": 2
          }
         }
        },
        "title": {
         "text": "Line Plot for Each Row in DataFrame"
        },
        "xaxis": {
         "anchor": "y",
         "domain": [
          0,
          1
         ],
         "title": {
          "text": "Point Index"
         }
        },
        "yaxis": {
         "anchor": "x",
         "domain": [
          0,
          1
         ],
         "title": {
          "text": "Value"
         }
        }
       }
      }
     },
     "metadata": {},
     "output_type": "display_data"
    }
   ],
   "source": [
    "import plotly.express as px\n",
    "# Assuming df is your DataFrame\n",
    "df_melted = df.melt(id_vars=[df.columns[0]], var_name='Point Index', value_name='Value')\n",
    "\n",
    "fig = px.line(df_melted, x='Point Index', y='Value', color=df.columns[0], title='Line Plot for Each Row in DataFrame')\n",
    "fig.show()\n"
   ]
  },
  {
   "cell_type": "code",
   "execution_count": 16,
   "metadata": {},
   "outputs": [
    {
     "data": {
      "text/html": [
       "<pre style=\"white-space:pre;overflow-x:auto;line-height:normal;font-family:Menlo,'DejaVu Sans Mono',consolas,'Courier New',monospace\">21:36:55.835 | <span style=\"color: #008080; text-decoration-color: #008080\">INFO</span>    | prefect.engine - Created flow run<span style=\"color: #800080; text-decoration-color: #800080\"> 'olive-ringtail'</span> for flow<span style=\"color: #800080; text-decoration-color: #800080; font-weight: bold\"> 'spike-detection-flow'</span>\n",
       "</pre>\n"
      ],
      "text/plain": [
       "21:36:55.835 | \u001b[36mINFO\u001b[0m    | prefect.engine - Created flow run\u001b[35m 'olive-ringtail'\u001b[0m for flow\u001b[1;35m 'spike-detection-flow'\u001b[0m\n"
      ]
     },
     "metadata": {},
     "output_type": "display_data"
    },
    {
     "data": {
      "text/html": [
       "<pre style=\"white-space:pre;overflow-x:auto;line-height:normal;font-family:Menlo,'DejaVu Sans Mono',consolas,'Courier New',monospace\">21:36:55.836 | <span style=\"color: #008080; text-decoration-color: #008080\">INFO</span>    | Flow run<span style=\"color: #800080; text-decoration-color: #800080\"> 'olive-ringtail'</span> - View at <span style=\"color: #0000ff; text-decoration-color: #0000ff\">http://localhost:4200/flow-runs/flow-run/a4f5f126-64fc-48fe-bc0c-18d1cbcf964d</span>\n",
       "</pre>\n"
      ],
      "text/plain": [
       "21:36:55.836 | \u001b[36mINFO\u001b[0m    | Flow run\u001b[35m 'olive-ringtail'\u001b[0m - View at \u001b[94mhttp://localhost:4200/flow-runs/flow-run/a4f5f126-64fc-48fe-bc0c-18d1cbcf964d\u001b[0m\n"
      ]
     },
     "metadata": {},
     "output_type": "display_data"
    },
    {
     "data": {
      "text/html": [
       "<pre style=\"white-space:pre;overflow-x:auto;line-height:normal;font-family:Menlo,'DejaVu Sans Mono',consolas,'Courier New',monospace\">21:36:55.890 | <span style=\"color: #008080; text-decoration-color: #008080\">INFO</span>    | Flow run<span style=\"color: #800080; text-decoration-color: #800080\"> 'olive-ringtail'</span> - Created task run 'generate_spike_waveforms-0' for task 'generate_spike_waveforms'\n",
       "</pre>\n"
      ],
      "text/plain": [
       "21:36:55.890 | \u001b[36mINFO\u001b[0m    | Flow run\u001b[35m 'olive-ringtail'\u001b[0m - Created task run 'generate_spike_waveforms-0' for task 'generate_spike_waveforms'\n"
      ]
     },
     "metadata": {},
     "output_type": "display_data"
    },
    {
     "data": {
      "text/html": [
       "<pre style=\"white-space:pre;overflow-x:auto;line-height:normal;font-family:Menlo,'DejaVu Sans Mono',consolas,'Courier New',monospace\">21:36:55.891 | <span style=\"color: #008080; text-decoration-color: #008080\">INFO</span>    | Flow run<span style=\"color: #800080; text-decoration-color: #800080\"> 'olive-ringtail'</span> - Executing 'generate_spike_waveforms-0' immediately...\n",
       "</pre>\n"
      ],
      "text/plain": [
       "21:36:55.891 | \u001b[36mINFO\u001b[0m    | Flow run\u001b[35m 'olive-ringtail'\u001b[0m - Executing 'generate_spike_waveforms-0' immediately...\n"
      ]
     },
     "metadata": {},
     "output_type": "display_data"
    },
    {
     "data": {
      "text/html": [
       "<pre style=\"white-space:pre;overflow-x:auto;line-height:normal;font-family:Menlo,'DejaVu Sans Mono',consolas,'Courier New',monospace\">21:36:55.926 | <span style=\"color: #008080; text-decoration-color: #008080\">INFO</span>    | Task run 'generate_spike_waveforms-0' - Spike waveforms generated!\n",
       "</pre>\n"
      ],
      "text/plain": [
       "21:36:55.926 | \u001b[36mINFO\u001b[0m    | Task run 'generate_spike_waveforms-0' - Spike waveforms generated!\n"
      ]
     },
     "metadata": {},
     "output_type": "display_data"
    },
    {
     "data": {
      "text/html": [
       "<pre style=\"white-space:pre;overflow-x:auto;line-height:normal;font-family:Menlo,'DejaVu Sans Mono',consolas,'Courier New',monospace\">21:36:55.949 | <span style=\"color: #008080; text-decoration-color: #008080\">INFO</span>    | Task run 'generate_spike_waveforms-0' - Finished in state <span style=\"color: #008000; text-decoration-color: #008000\">Completed</span>()\n",
       "</pre>\n"
      ],
      "text/plain": [
       "21:36:55.949 | \u001b[36mINFO\u001b[0m    | Task run 'generate_spike_waveforms-0' - Finished in state \u001b[32mCompleted\u001b[0m()\n"
      ]
     },
     "metadata": {},
     "output_type": "display_data"
    },
    {
     "data": {
      "text/html": [
       "<pre style=\"white-space:pre;overflow-x:auto;line-height:normal;font-family:Menlo,'DejaVu Sans Mono',consolas,'Courier New',monospace\">21:36:55.972 | <span style=\"color: #008080; text-decoration-color: #008080\">INFO</span>    | Flow run<span style=\"color: #800080; text-decoration-color: #800080\"> 'olive-ringtail'</span> - Created task run 'split_data-0' for task 'split_data'\n",
       "</pre>\n"
      ],
      "text/plain": [
       "21:36:55.972 | \u001b[36mINFO\u001b[0m    | Flow run\u001b[35m 'olive-ringtail'\u001b[0m - Created task run 'split_data-0' for task 'split_data'\n"
      ]
     },
     "metadata": {},
     "output_type": "display_data"
    },
    {
     "data": {
      "text/html": [
       "<pre style=\"white-space:pre;overflow-x:auto;line-height:normal;font-family:Menlo,'DejaVu Sans Mono',consolas,'Courier New',monospace\">21:36:55.974 | <span style=\"color: #008080; text-decoration-color: #008080\">INFO</span>    | Flow run<span style=\"color: #800080; text-decoration-color: #800080\"> 'olive-ringtail'</span> - Executing 'split_data-0' immediately...\n",
       "</pre>\n"
      ],
      "text/plain": [
       "21:36:55.974 | \u001b[36mINFO\u001b[0m    | Flow run\u001b[35m 'olive-ringtail'\u001b[0m - Executing 'split_data-0' immediately...\n"
      ]
     },
     "metadata": {},
     "output_type": "display_data"
    },
    {
     "data": {
      "text/html": [
       "<pre style=\"white-space:pre;overflow-x:auto;line-height:normal;font-family:Menlo,'DejaVu Sans Mono',consolas,'Courier New',monospace\">21:36:56.008 | <span style=\"color: #008080; text-decoration-color: #008080\">INFO</span>    | Task run 'split_data-0' - Data split into training and test sets!\n",
       "</pre>\n"
      ],
      "text/plain": [
       "21:36:56.008 | \u001b[36mINFO\u001b[0m    | Task run 'split_data-0' - Data split into training and test sets!\n"
      ]
     },
     "metadata": {},
     "output_type": "display_data"
    },
    {
     "data": {
      "text/html": [
       "<pre style=\"white-space:pre;overflow-x:auto;line-height:normal;font-family:Menlo,'DejaVu Sans Mono',consolas,'Courier New',monospace\">21:36:56.030 | <span style=\"color: #008080; text-decoration-color: #008080\">INFO</span>    | Task run 'split_data-0' - Finished in state <span style=\"color: #008000; text-decoration-color: #008000\">Completed</span>()\n",
       "</pre>\n"
      ],
      "text/plain": [
       "21:36:56.030 | \u001b[36mINFO\u001b[0m    | Task run 'split_data-0' - Finished in state \u001b[32mCompleted\u001b[0m()\n"
      ]
     },
     "metadata": {},
     "output_type": "display_data"
    },
    {
     "data": {
      "text/html": [
       "<pre style=\"white-space:pre;overflow-x:auto;line-height:normal;font-family:Menlo,'DejaVu Sans Mono',consolas,'Courier New',monospace\">21:36:56.054 | <span style=\"color: #008080; text-decoration-color: #008080\">INFO</span>    | Flow run<span style=\"color: #800080; text-decoration-color: #800080\"> 'olive-ringtail'</span> - Created task run 'train_model-0' for task 'train_model'\n",
       "</pre>\n"
      ],
      "text/plain": [
       "21:36:56.054 | \u001b[36mINFO\u001b[0m    | Flow run\u001b[35m 'olive-ringtail'\u001b[0m - Created task run 'train_model-0' for task 'train_model'\n"
      ]
     },
     "metadata": {},
     "output_type": "display_data"
    },
    {
     "data": {
      "text/html": [
       "<pre style=\"white-space:pre;overflow-x:auto;line-height:normal;font-family:Menlo,'DejaVu Sans Mono',consolas,'Courier New',monospace\">21:36:56.056 | <span style=\"color: #008080; text-decoration-color: #008080\">INFO</span>    | Flow run<span style=\"color: #800080; text-decoration-color: #800080\"> 'olive-ringtail'</span> - Executing 'train_model-0' immediately...\n",
       "</pre>\n"
      ],
      "text/plain": [
       "21:36:56.056 | \u001b[36mINFO\u001b[0m    | Flow run\u001b[35m 'olive-ringtail'\u001b[0m - Executing 'train_model-0' immediately...\n"
      ]
     },
     "metadata": {},
     "output_type": "display_data"
    },
    {
     "data": {
      "text/html": [
       "<pre style=\"white-space:pre;overflow-x:auto;line-height:normal;font-family:Menlo,'DejaVu Sans Mono',consolas,'Courier New',monospace\">21:36:56.144 | <span style=\"color: #008080; text-decoration-color: #008080\">INFO</span>    | Task run 'train_model-0' - Model trained successfully!\n",
       "</pre>\n"
      ],
      "text/plain": [
       "21:36:56.144 | \u001b[36mINFO\u001b[0m    | Task run 'train_model-0' - Model trained successfully!\n"
      ]
     },
     "metadata": {},
     "output_type": "display_data"
    },
    {
     "data": {
      "text/html": [
       "<pre style=\"white-space:pre;overflow-x:auto;line-height:normal;font-family:Menlo,'DejaVu Sans Mono',consolas,'Courier New',monospace\">21:36:56.167 | <span style=\"color: #008080; text-decoration-color: #008080\">INFO</span>    | Task run 'train_model-0' - Finished in state <span style=\"color: #008000; text-decoration-color: #008000\">Completed</span>()\n",
       "</pre>\n"
      ],
      "text/plain": [
       "21:36:56.167 | \u001b[36mINFO\u001b[0m    | Task run 'train_model-0' - Finished in state \u001b[32mCompleted\u001b[0m()\n"
      ]
     },
     "metadata": {},
     "output_type": "display_data"
    },
    {
     "data": {
      "text/html": [
       "<pre style=\"white-space:pre;overflow-x:auto;line-height:normal;font-family:Menlo,'DejaVu Sans Mono',consolas,'Courier New',monospace\">21:36:56.191 | <span style=\"color: #008080; text-decoration-color: #008080\">INFO</span>    | Flow run<span style=\"color: #800080; text-decoration-color: #800080\"> 'olive-ringtail'</span> - Created task run 'evaluate_model-0' for task 'evaluate_model'\n",
       "</pre>\n"
      ],
      "text/plain": [
       "21:36:56.191 | \u001b[36mINFO\u001b[0m    | Flow run\u001b[35m 'olive-ringtail'\u001b[0m - Created task run 'evaluate_model-0' for task 'evaluate_model'\n"
      ]
     },
     "metadata": {},
     "output_type": "display_data"
    },
    {
     "data": {
      "text/html": [
       "<pre style=\"white-space:pre;overflow-x:auto;line-height:normal;font-family:Menlo,'DejaVu Sans Mono',consolas,'Courier New',monospace\">21:36:56.192 | <span style=\"color: #008080; text-decoration-color: #008080\">INFO</span>    | Flow run<span style=\"color: #800080; text-decoration-color: #800080\"> 'olive-ringtail'</span> - Executing 'evaluate_model-0' immediately...\n",
       "</pre>\n"
      ],
      "text/plain": [
       "21:36:56.192 | \u001b[36mINFO\u001b[0m    | Flow run\u001b[35m 'olive-ringtail'\u001b[0m - Executing 'evaluate_model-0' immediately...\n"
      ]
     },
     "metadata": {},
     "output_type": "display_data"
    },
    {
     "data": {
      "text/html": [
       "<pre style=\"white-space:pre;overflow-x:auto;line-height:normal;font-family:Menlo,'DejaVu Sans Mono',consolas,'Courier New',monospace\">21:36:56.231 | <span style=\"color: #008080; text-decoration-color: #008080\">INFO</span>    | Task run 'evaluate_model-0' - Classification Report:\n",
       "</pre>\n"
      ],
      "text/plain": [
       "21:36:56.231 | \u001b[36mINFO\u001b[0m    | Task run 'evaluate_model-0' - Classification Report:\n"
      ]
     },
     "metadata": {},
     "output_type": "display_data"
    },
    {
     "name": "stderr",
     "output_type": "stream",
     "text": [
      "/home/smillburn/.local/lib/python3.8/site-packages/sklearn/metrics/_classification.py:1344: UndefinedMetricWarning:\n",
      "\n",
      "Precision and F-score are ill-defined and being set to 0.0 in labels with no predicted samples. Use `zero_division` parameter to control this behavior.\n",
      "\n",
      "/home/smillburn/.local/lib/python3.8/site-packages/sklearn/metrics/_classification.py:1344: UndefinedMetricWarning:\n",
      "\n",
      "Recall and F-score are ill-defined and being set to 0.0 in labels with no true samples. Use `zero_division` parameter to control this behavior.\n",
      "\n",
      "/home/smillburn/.local/lib/python3.8/site-packages/sklearn/metrics/_classification.py:1344: UndefinedMetricWarning:\n",
      "\n",
      "Precision and F-score are ill-defined and being set to 0.0 in labels with no predicted samples. Use `zero_division` parameter to control this behavior.\n",
      "\n",
      "/home/smillburn/.local/lib/python3.8/site-packages/sklearn/metrics/_classification.py:1344: UndefinedMetricWarning:\n",
      "\n",
      "Recall and F-score are ill-defined and being set to 0.0 in labels with no true samples. Use `zero_division` parameter to control this behavior.\n",
      "\n",
      "/home/smillburn/.local/lib/python3.8/site-packages/sklearn/metrics/_classification.py:1344: UndefinedMetricWarning:\n",
      "\n",
      "Precision and F-score are ill-defined and being set to 0.0 in labels with no predicted samples. Use `zero_division` parameter to control this behavior.\n",
      "\n",
      "/home/smillburn/.local/lib/python3.8/site-packages/sklearn/metrics/_classification.py:1344: UndefinedMetricWarning:\n",
      "\n",
      "Recall and F-score are ill-defined and being set to 0.0 in labels with no true samples. Use `zero_division` parameter to control this behavior.\n",
      "\n"
     ]
    },
    {
     "data": {
      "text/html": [
       "<pre style=\"white-space:pre;overflow-x:auto;line-height:normal;font-family:Menlo,'DejaVu Sans Mono',consolas,'Courier New',monospace\">21:36:56.236 | <span style=\"color: #008080; text-decoration-color: #008080\">INFO</span>    | Task run 'evaluate_model-0' -               precision    recall  f1-score   support\n",
       "\n",
       "    no_spike       0.00      0.00      0.00       0.0\n",
       "       spike       0.00      0.00      0.00       1.0\n",
       "\n",
       "    accuracy                           0.00       1.0\n",
       "   macro avg       0.00      0.00      0.00       1.0\n",
       "weighted avg       0.00      0.00      0.00       1.0\n",
       "\n",
       "</pre>\n"
      ],
      "text/plain": [
       "21:36:56.236 | \u001b[36mINFO\u001b[0m    | Task run 'evaluate_model-0' -               precision    recall  f1-score   support\n",
       "\n",
       "    no_spike       0.00      0.00      0.00       0.0\n",
       "       spike       0.00      0.00      0.00       1.0\n",
       "\n",
       "    accuracy                           0.00       1.0\n",
       "   macro avg       0.00      0.00      0.00       1.0\n",
       "weighted avg       0.00      0.00      0.00       1.0\n",
       "\n"
      ]
     },
     "metadata": {},
     "output_type": "display_data"
    },
    {
     "data": {
      "text/html": [
       "<pre style=\"white-space:pre;overflow-x:auto;line-height:normal;font-family:Menlo,'DejaVu Sans Mono',consolas,'Courier New',monospace\">21:36:56.238 | <span style=\"color: #008080; text-decoration-color: #008080\">INFO</span>    | Task run 'evaluate_model-0' - Accuracy: 0.0\n",
       "</pre>\n"
      ],
      "text/plain": [
       "21:36:56.238 | \u001b[36mINFO\u001b[0m    | Task run 'evaluate_model-0' - Accuracy: 0.0\n"
      ]
     },
     "metadata": {},
     "output_type": "display_data"
    },
    {
     "data": {
      "text/html": [
       "<pre style=\"white-space:pre;overflow-x:auto;line-height:normal;font-family:Menlo,'DejaVu Sans Mono',consolas,'Courier New',monospace\">21:36:56.259 | <span style=\"color: #008080; text-decoration-color: #008080\">INFO</span>    | Task run 'evaluate_model-0' - Finished in state <span style=\"color: #008000; text-decoration-color: #008000\">Completed</span>()\n",
       "</pre>\n"
      ],
      "text/plain": [
       "21:36:56.259 | \u001b[36mINFO\u001b[0m    | Task run 'evaluate_model-0' - Finished in state \u001b[32mCompleted\u001b[0m()\n"
      ]
     },
     "metadata": {},
     "output_type": "display_data"
    },
    {
     "data": {
      "text/html": [
       "<pre style=\"white-space:pre;overflow-x:auto;line-height:normal;font-family:Menlo,'DejaVu Sans Mono',consolas,'Courier New',monospace\">21:36:56.285 | <span style=\"color: #008080; text-decoration-color: #008080\">INFO</span>    | Flow run<span style=\"color: #800080; text-decoration-color: #800080\"> 'olive-ringtail'</span> - Created task run 'save_model-0' for task 'save_model'\n",
       "</pre>\n"
      ],
      "text/plain": [
       "21:36:56.285 | \u001b[36mINFO\u001b[0m    | Flow run\u001b[35m 'olive-ringtail'\u001b[0m - Created task run 'save_model-0' for task 'save_model'\n"
      ]
     },
     "metadata": {},
     "output_type": "display_data"
    },
    {
     "data": {
      "text/html": [
       "<pre style=\"white-space:pre;overflow-x:auto;line-height:normal;font-family:Menlo,'DejaVu Sans Mono',consolas,'Courier New',monospace\">21:36:56.286 | <span style=\"color: #008080; text-decoration-color: #008080\">INFO</span>    | Flow run<span style=\"color: #800080; text-decoration-color: #800080\"> 'olive-ringtail'</span> - Executing 'save_model-0' immediately...\n",
       "</pre>\n"
      ],
      "text/plain": [
       "21:36:56.286 | \u001b[36mINFO\u001b[0m    | Flow run\u001b[35m 'olive-ringtail'\u001b[0m - Executing 'save_model-0' immediately...\n"
      ]
     },
     "metadata": {},
     "output_type": "display_data"
    },
    {
     "data": {
      "text/html": [
       "<pre style=\"white-space:pre;overflow-x:auto;line-height:normal;font-family:Menlo,'DejaVu Sans Mono',consolas,'Courier New',monospace\">21:36:56.338 | <span style=\"color: #008080; text-decoration-color: #008080\">INFO</span>    | Task run 'save_model-0' - Model saved to spike_detection_model.joblib!\n",
       "</pre>\n"
      ],
      "text/plain": [
       "21:36:56.338 | \u001b[36mINFO\u001b[0m    | Task run 'save_model-0' - Model saved to spike_detection_model.joblib!\n"
      ]
     },
     "metadata": {},
     "output_type": "display_data"
    },
    {
     "data": {
      "text/html": [
       "<pre style=\"white-space:pre;overflow-x:auto;line-height:normal;font-family:Menlo,'DejaVu Sans Mono',consolas,'Courier New',monospace\">21:36:56.360 | <span style=\"color: #008080; text-decoration-color: #008080\">INFO</span>    | Task run 'save_model-0' - Finished in state <span style=\"color: #008000; text-decoration-color: #008000\">Completed</span>()\n",
       "</pre>\n"
      ],
      "text/plain": [
       "21:36:56.360 | \u001b[36mINFO\u001b[0m    | Task run 'save_model-0' - Finished in state \u001b[32mCompleted\u001b[0m()\n"
      ]
     },
     "metadata": {},
     "output_type": "display_data"
    },
    {
     "data": {
      "text/html": [
       "<pre style=\"white-space:pre;overflow-x:auto;line-height:normal;font-family:Menlo,'DejaVu Sans Mono',consolas,'Courier New',monospace\">21:36:56.388 | <span style=\"color: #008080; text-decoration-color: #008080\">INFO</span>    | Flow run<span style=\"color: #800080; text-decoration-color: #800080\"> 'olive-ringtail'</span> - Created task run 'generate_test_waveforms-0' for task 'generate_test_waveforms'\n",
       "</pre>\n"
      ],
      "text/plain": [
       "21:36:56.388 | \u001b[36mINFO\u001b[0m    | Flow run\u001b[35m 'olive-ringtail'\u001b[0m - Created task run 'generate_test_waveforms-0' for task 'generate_test_waveforms'\n"
      ]
     },
     "metadata": {},
     "output_type": "display_data"
    },
    {
     "data": {
      "text/html": [
       "<pre style=\"white-space:pre;overflow-x:auto;line-height:normal;font-family:Menlo,'DejaVu Sans Mono',consolas,'Courier New',monospace\">21:36:56.389 | <span style=\"color: #008080; text-decoration-color: #008080\">INFO</span>    | Flow run<span style=\"color: #800080; text-decoration-color: #800080\"> 'olive-ringtail'</span> - Executing 'generate_test_waveforms-0' immediately...\n",
       "</pre>\n"
      ],
      "text/plain": [
       "21:36:56.389 | \u001b[36mINFO\u001b[0m    | Flow run\u001b[35m 'olive-ringtail'\u001b[0m - Executing 'generate_test_waveforms-0' immediately...\n"
      ]
     },
     "metadata": {},
     "output_type": "display_data"
    },
    {
     "data": {
      "text/html": [
       "<pre style=\"white-space:pre;overflow-x:auto;line-height:normal;font-family:Menlo,'DejaVu Sans Mono',consolas,'Courier New',monospace\">21:36:56.450 | <span style=\"color: #008080; text-decoration-color: #008080\">INFO</span>    | Task run 'generate_test_waveforms-0' - Finished in state <span style=\"color: #008000; text-decoration-color: #008000\">Completed</span>()\n",
       "</pre>\n"
      ],
      "text/plain": [
       "21:36:56.450 | \u001b[36mINFO\u001b[0m    | Task run 'generate_test_waveforms-0' - Finished in state \u001b[32mCompleted\u001b[0m()\n"
      ]
     },
     "metadata": {},
     "output_type": "display_data"
    },
    {
     "data": {
      "text/html": [
       "<pre style=\"white-space:pre;overflow-x:auto;line-height:normal;font-family:Menlo,'DejaVu Sans Mono',consolas,'Courier New',monospace\">21:36:56.480 | <span style=\"color: #008080; text-decoration-color: #008080\">INFO</span>    | Flow run<span style=\"color: #800080; text-decoration-color: #800080\"> 'olive-ringtail'</span> - Created task run 'load_and_predict-0' for task 'load_and_predict'\n",
       "</pre>\n"
      ],
      "text/plain": [
       "21:36:56.480 | \u001b[36mINFO\u001b[0m    | Flow run\u001b[35m 'olive-ringtail'\u001b[0m - Created task run 'load_and_predict-0' for task 'load_and_predict'\n"
      ]
     },
     "metadata": {},
     "output_type": "display_data"
    },
    {
     "data": {
      "text/html": [
       "<pre style=\"white-space:pre;overflow-x:auto;line-height:normal;font-family:Menlo,'DejaVu Sans Mono',consolas,'Courier New',monospace\">21:36:56.483 | <span style=\"color: #008080; text-decoration-color: #008080\">INFO</span>    | Flow run<span style=\"color: #800080; text-decoration-color: #800080\"> 'olive-ringtail'</span> - Executing 'load_and_predict-0' immediately...\n",
       "</pre>\n"
      ],
      "text/plain": [
       "21:36:56.483 | \u001b[36mINFO\u001b[0m    | Flow run\u001b[35m 'olive-ringtail'\u001b[0m - Executing 'load_and_predict-0' immediately...\n"
      ]
     },
     "metadata": {},
     "output_type": "display_data"
    },
    {
     "data": {
      "text/html": [
       "<pre style=\"white-space:pre;overflow-x:auto;line-height:normal;font-family:Menlo,'DejaVu Sans Mono',consolas,'Courier New',monospace\">21:36:56.535 | <span style=\"color: #008080; text-decoration-color: #008080\">INFO</span>    | Task run 'load_and_predict-0' - Model loaded from spike_detection_model.joblib\n",
       "</pre>\n"
      ],
      "text/plain": [
       "21:36:56.535 | \u001b[36mINFO\u001b[0m    | Task run 'load_and_predict-0' - Model loaded from spike_detection_model.joblib\n"
      ]
     },
     "metadata": {},
     "output_type": "display_data"
    },
    {
     "name": "stderr",
     "output_type": "stream",
     "text": [
      "/home/smillburn/.local/lib/python3.8/site-packages/sklearn/base.py:439: UserWarning:\n",
      "\n",
      "X does not have valid feature names, but RandomForestClassifier was fitted with feature names\n",
      "\n"
     ]
    },
    {
     "data": {
      "text/html": [
       "<pre style=\"white-space:pre;overflow-x:auto;line-height:normal;font-family:Menlo,'DejaVu Sans Mono',consolas,'Courier New',monospace\">21:36:56.541 | <span style=\"color: #008080; text-decoration-color: #008080\">INFO</span>    | Task run 'load_and_predict-0' - \n",
       "Explicit Test Case Logging:\n",
       "</pre>\n"
      ],
      "text/plain": [
       "21:36:56.541 | \u001b[36mINFO\u001b[0m    | Task run 'load_and_predict-0' - \n",
       "Explicit Test Case Logging:\n"
      ]
     },
     "metadata": {},
     "output_type": "display_data"
    },
    {
     "data": {
      "text/html": [
       "<pre style=\"white-space:pre;overflow-x:auto;line-height:normal;font-family:Menlo,'DejaVu Sans Mono',consolas,'Courier New',monospace\">21:36:56.543 | <span style=\"color: #008080; text-decoration-color: #008080\">INFO</span>    | Task run 'load_and_predict-0' - Test Case 1:\n",
       "</pre>\n"
      ],
      "text/plain": [
       "21:36:56.543 | \u001b[36mINFO\u001b[0m    | Task run 'load_and_predict-0' - Test Case 1:\n"
      ]
     },
     "metadata": {},
     "output_type": "display_data"
    },
    {
     "data": {
      "text/html": [
       "<pre style=\"white-space:pre;overflow-x:auto;line-height:normal;font-family:Menlo,'DejaVu Sans Mono',consolas,'Courier New',monospace\">21:36:56.544 | <span style=\"color: #008080; text-decoration-color: #008080\">INFO</span>    | Task run 'load_and_predict-0' -   Expected: no_spike\n",
       "</pre>\n"
      ],
      "text/plain": [
       "21:36:56.544 | \u001b[36mINFO\u001b[0m    | Task run 'load_and_predict-0' -   Expected: no_spike\n"
      ]
     },
     "metadata": {},
     "output_type": "display_data"
    },
    {
     "data": {
      "text/html": [
       "<pre style=\"white-space:pre;overflow-x:auto;line-height:normal;font-family:Menlo,'DejaVu Sans Mono',consolas,'Courier New',monospace\">21:36:56.545 | <span style=\"color: #008080; text-decoration-color: #008080\">INFO</span>    | Task run 'load_and_predict-0' -   Predicted: no_spike\n",
       "</pre>\n"
      ],
      "text/plain": [
       "21:36:56.545 | \u001b[36mINFO\u001b[0m    | Task run 'load_and_predict-0' -   Predicted: no_spike\n"
      ]
     },
     "metadata": {},
     "output_type": "display_data"
    },
    {
     "data": {
      "text/html": [
       "<pre style=\"white-space:pre;overflow-x:auto;line-height:normal;font-family:Menlo,'DejaVu Sans Mono',consolas,'Courier New',monospace\">21:36:56.547 | <span style=\"color: #008080; text-decoration-color: #008080\">INFO</span>    | Task run 'load_and_predict-0' - Test Case 2:\n",
       "</pre>\n"
      ],
      "text/plain": [
       "21:36:56.547 | \u001b[36mINFO\u001b[0m    | Task run 'load_and_predict-0' - Test Case 2:\n"
      ]
     },
     "metadata": {},
     "output_type": "display_data"
    },
    {
     "data": {
      "text/html": [
       "<pre style=\"white-space:pre;overflow-x:auto;line-height:normal;font-family:Menlo,'DejaVu Sans Mono',consolas,'Courier New',monospace\">21:36:56.550 | <span style=\"color: #008080; text-decoration-color: #008080\">INFO</span>    | Task run 'load_and_predict-0' -   Expected: spike\n",
       "</pre>\n"
      ],
      "text/plain": [
       "21:36:56.550 | \u001b[36mINFO\u001b[0m    | Task run 'load_and_predict-0' -   Expected: spike\n"
      ]
     },
     "metadata": {},
     "output_type": "display_data"
    },
    {
     "data": {
      "text/html": [
       "<pre style=\"white-space:pre;overflow-x:auto;line-height:normal;font-family:Menlo,'DejaVu Sans Mono',consolas,'Courier New',monospace\">21:36:56.551 | <span style=\"color: #008080; text-decoration-color: #008080\">INFO</span>    | Task run 'load_and_predict-0' -   Predicted: no_spike\n",
       "</pre>\n"
      ],
      "text/plain": [
       "21:36:56.551 | \u001b[36mINFO\u001b[0m    | Task run 'load_and_predict-0' -   Predicted: no_spike\n"
      ]
     },
     "metadata": {},
     "output_type": "display_data"
    },
    {
     "data": {
      "text/html": [
       "<pre style=\"white-space:pre;overflow-x:auto;line-height:normal;font-family:Menlo,'DejaVu Sans Mono',consolas,'Courier New',monospace\">21:36:56.553 | <span style=\"color: #008080; text-decoration-color: #008080\">INFO</span>    | Task run 'load_and_predict-0' - Predictions on new data: ['no_spike' 'no_spike']\n",
       "</pre>\n"
      ],
      "text/plain": [
       "21:36:56.553 | \u001b[36mINFO\u001b[0m    | Task run 'load_and_predict-0' - Predictions on new data: ['no_spike' 'no_spike']\n"
      ]
     },
     "metadata": {},
     "output_type": "display_data"
    },
    {
     "data": {
      "text/html": [
       "<pre style=\"white-space:pre;overflow-x:auto;line-height:normal;font-family:Menlo,'DejaVu Sans Mono',consolas,'Courier New',monospace\">21:36:56.555 | <span style=\"color: #008080; text-decoration-color: #008080\">INFO</span>    | Task run 'load_and_predict-0' - True labels: ['no_spike', 'spike']\n",
       "</pre>\n"
      ],
      "text/plain": [
       "21:36:56.555 | \u001b[36mINFO\u001b[0m    | Task run 'load_and_predict-0' - True labels: ['no_spike', 'spike']\n"
      ]
     },
     "metadata": {},
     "output_type": "display_data"
    },
    {
     "data": {
      "text/html": [
       "<pre style=\"white-space:pre;overflow-x:auto;line-height:normal;font-family:Menlo,'DejaVu Sans Mono',consolas,'Courier New',monospace\">21:36:56.556 | <span style=\"color: #008080; text-decoration-color: #008080\">INFO</span>    | Task run 'load_and_predict-0' - \n",
       "Classification Report on new test data:\n",
       "</pre>\n"
      ],
      "text/plain": [
       "21:36:56.556 | \u001b[36mINFO\u001b[0m    | Task run 'load_and_predict-0' - \n",
       "Classification Report on new test data:\n"
      ]
     },
     "metadata": {},
     "output_type": "display_data"
    },
    {
     "name": "stderr",
     "output_type": "stream",
     "text": [
      "/home/smillburn/.local/lib/python3.8/site-packages/sklearn/metrics/_classification.py:1344: UndefinedMetricWarning:\n",
      "\n",
      "Precision and F-score are ill-defined and being set to 0.0 in labels with no predicted samples. Use `zero_division` parameter to control this behavior.\n",
      "\n",
      "/home/smillburn/.local/lib/python3.8/site-packages/sklearn/metrics/_classification.py:1344: UndefinedMetricWarning:\n",
      "\n",
      "Precision and F-score are ill-defined and being set to 0.0 in labels with no predicted samples. Use `zero_division` parameter to control this behavior.\n",
      "\n",
      "/home/smillburn/.local/lib/python3.8/site-packages/sklearn/metrics/_classification.py:1344: UndefinedMetricWarning:\n",
      "\n",
      "Precision and F-score are ill-defined and being set to 0.0 in labels with no predicted samples. Use `zero_division` parameter to control this behavior.\n",
      "\n"
     ]
    },
    {
     "data": {
      "text/html": [
       "<pre style=\"white-space:pre;overflow-x:auto;line-height:normal;font-family:Menlo,'DejaVu Sans Mono',consolas,'Courier New',monospace\">21:36:56.563 | <span style=\"color: #008080; text-decoration-color: #008080\">INFO</span>    | Task run 'load_and_predict-0' -               precision    recall  f1-score   support\n",
       "\n",
       "    no_spike       0.50      1.00      0.67         1\n",
       "       spike       0.00      0.00      0.00         1\n",
       "\n",
       "    accuracy                           0.50         2\n",
       "   macro avg       0.25      0.50      0.33         2\n",
       "weighted avg       0.25      0.50      0.33         2\n",
       "\n",
       "</pre>\n"
      ],
      "text/plain": [
       "21:36:56.563 | \u001b[36mINFO\u001b[0m    | Task run 'load_and_predict-0' -               precision    recall  f1-score   support\n",
       "\n",
       "    no_spike       0.50      1.00      0.67         1\n",
       "       spike       0.00      0.00      0.00         1\n",
       "\n",
       "    accuracy                           0.50         2\n",
       "   macro avg       0.25      0.50      0.33         2\n",
       "weighted avg       0.25      0.50      0.33         2\n",
       "\n"
      ]
     },
     "metadata": {},
     "output_type": "display_data"
    },
    {
     "data": {
      "text/html": [
       "<pre style=\"white-space:pre;overflow-x:auto;line-height:normal;font-family:Menlo,'DejaVu Sans Mono',consolas,'Courier New',monospace\">21:36:56.566 | <span style=\"color: #008080; text-decoration-color: #008080\">INFO</span>    | Task run 'load_and_predict-0' - Accuracy on new data: 0.5\n",
       "</pre>\n"
      ],
      "text/plain": [
       "21:36:56.566 | \u001b[36mINFO\u001b[0m    | Task run 'load_and_predict-0' - Accuracy on new data: 0.5\n"
      ]
     },
     "metadata": {},
     "output_type": "display_data"
    },
    {
     "data": {
      "text/html": [
       "<pre style=\"white-space:pre;overflow-x:auto;line-height:normal;font-family:Menlo,'DejaVu Sans Mono',consolas,'Courier New',monospace\">21:36:56.592 | <span style=\"color: #008080; text-decoration-color: #008080\">INFO</span>    | Task run 'load_and_predict-0' - Finished in state <span style=\"color: #008000; text-decoration-color: #008000\">Completed</span>()\n",
       "</pre>\n"
      ],
      "text/plain": [
       "21:36:56.592 | \u001b[36mINFO\u001b[0m    | Task run 'load_and_predict-0' - Finished in state \u001b[32mCompleted\u001b[0m()\n"
      ]
     },
     "metadata": {},
     "output_type": "display_data"
    },
    {
     "data": {
      "text/html": [
       "<pre style=\"white-space:pre;overflow-x:auto;line-height:normal;font-family:Menlo,'DejaVu Sans Mono',consolas,'Courier New',monospace\">21:36:56.616 | <span style=\"color: #008080; text-decoration-color: #008080\">INFO</span>    | Flow run<span style=\"color: #800080; text-decoration-color: #800080\"> 'olive-ringtail'</span> - Created task run 'load_to_minio-0' for task 'load_to_minio'\n",
       "</pre>\n"
      ],
      "text/plain": [
       "21:36:56.616 | \u001b[36mINFO\u001b[0m    | Flow run\u001b[35m 'olive-ringtail'\u001b[0m - Created task run 'load_to_minio-0' for task 'load_to_minio'\n"
      ]
     },
     "metadata": {},
     "output_type": "display_data"
    },
    {
     "data": {
      "text/html": [
       "<pre style=\"white-space:pre;overflow-x:auto;line-height:normal;font-family:Menlo,'DejaVu Sans Mono',consolas,'Courier New',monospace\">21:36:56.618 | <span style=\"color: #008080; text-decoration-color: #008080\">INFO</span>    | Flow run<span style=\"color: #800080; text-decoration-color: #800080\"> 'olive-ringtail'</span> - Executing 'load_to_minio-0' immediately...\n",
       "</pre>\n"
      ],
      "text/plain": [
       "21:36:56.618 | \u001b[36mINFO\u001b[0m    | Flow run\u001b[35m 'olive-ringtail'\u001b[0m - Executing 'load_to_minio-0' immediately...\n"
      ]
     },
     "metadata": {},
     "output_type": "display_data"
    },
    {
     "data": {
      "text/html": [
       "<pre style=\"white-space:pre;overflow-x:auto;line-height:normal;font-family:Menlo,'DejaVu Sans Mono',consolas,'Courier New',monospace\">21:36:56.700 | <span style=\"color: #008080; text-decoration-color: #008080\">INFO</span>    | Task run 'load_to_minio-0' - Finished in state <span style=\"color: #008000; text-decoration-color: #008000\">Completed</span>()\n",
       "</pre>\n"
      ],
      "text/plain": [
       "21:36:56.700 | \u001b[36mINFO\u001b[0m    | Task run 'load_to_minio-0' - Finished in state \u001b[32mCompleted\u001b[0m()\n"
      ]
     },
     "metadata": {},
     "output_type": "display_data"
    },
    {
     "data": {
      "text/html": [
       "<pre style=\"white-space:pre;overflow-x:auto;line-height:normal;font-family:Menlo,'DejaVu Sans Mono',consolas,'Courier New',monospace\">21:36:56.727 | <span style=\"color: #008080; text-decoration-color: #008080\">INFO</span>    | Flow run<span style=\"color: #800080; text-decoration-color: #800080\"> 'olive-ringtail'</span> - Created task run 'create_etl_artifact-0' for task 'create_etl_artifact'\n",
       "</pre>\n"
      ],
      "text/plain": [
       "21:36:56.727 | \u001b[36mINFO\u001b[0m    | Flow run\u001b[35m 'olive-ringtail'\u001b[0m - Created task run 'create_etl_artifact-0' for task 'create_etl_artifact'\n"
      ]
     },
     "metadata": {},
     "output_type": "display_data"
    },
    {
     "data": {
      "text/html": [
       "<pre style=\"white-space:pre;overflow-x:auto;line-height:normal;font-family:Menlo,'DejaVu Sans Mono',consolas,'Courier New',monospace\">21:36:56.728 | <span style=\"color: #008080; text-decoration-color: #008080\">INFO</span>    | Flow run<span style=\"color: #800080; text-decoration-color: #800080\"> 'olive-ringtail'</span> - Executing 'create_etl_artifact-0' immediately...\n",
       "</pre>\n"
      ],
      "text/plain": [
       "21:36:56.728 | \u001b[36mINFO\u001b[0m    | Flow run\u001b[35m 'olive-ringtail'\u001b[0m - Executing 'create_etl_artifact-0' immediately...\n"
      ]
     },
     "metadata": {},
     "output_type": "display_data"
    },
    {
     "data": {
      "text/html": [
       "<pre style=\"white-space:pre;overflow-x:auto;line-height:normal;font-family:Menlo,'DejaVu Sans Mono',consolas,'Courier New',monospace\">21:36:56.801 | <span style=\"color: #008080; text-decoration-color: #008080\">INFO</span>    | Task run 'create_etl_artifact-0' - Finished in state <span style=\"color: #008000; text-decoration-color: #008000\">Completed</span>()\n",
       "</pre>\n"
      ],
      "text/plain": [
       "21:36:56.801 | \u001b[36mINFO\u001b[0m    | Task run 'create_etl_artifact-0' - Finished in state \u001b[32mCompleted\u001b[0m()\n"
      ]
     },
     "metadata": {},
     "output_type": "display_data"
    },
    {
     "data": {
      "text/html": [
       "<pre style=\"white-space:pre;overflow-x:auto;line-height:normal;font-family:Menlo,'DejaVu Sans Mono',consolas,'Courier New',monospace\">21:36:56.828 | <span style=\"color: #008080; text-decoration-color: #008080\">INFO</span>    | Flow run<span style=\"color: #800080; text-decoration-color: #800080\"> 'olive-ringtail'</span> - Finished in state <span style=\"color: #008000; text-decoration-color: #008000\">Completed</span>('All states completed.')\n",
       "</pre>\n"
      ],
      "text/plain": [
       "21:36:56.828 | \u001b[36mINFO\u001b[0m    | Flow run\u001b[35m 'olive-ringtail'\u001b[0m - Finished in state \u001b[32mCompleted\u001b[0m('All states completed.')\n"
      ]
     },
     "metadata": {},
     "output_type": "display_data"
    },
    {
     "data": {
      "text/plain": [
       "[Completed(message=None, type=COMPLETED, result=UnpersistedResult(type='unpersisted', artifact_type='result', artifact_description='Unpersisted result of type `DataFrame`')),\n",
       " Completed(message=None, type=COMPLETED, result=UnpersistedResult(type='unpersisted', artifact_type='result', artifact_description='Unpersisted result of type `tuple`')),\n",
       " Completed(message=None, type=COMPLETED, result=UnpersistedResult(type='unpersisted', artifact_type='result', artifact_description='Unpersisted result of type `RandomForestClassifier`')),\n",
       " Completed(message=None, type=COMPLETED, result=UnpersistedResult(type='unpersisted', artifact_type='result', artifact_description='Unpersisted result of type `NoneType`')),\n",
       " Completed(message=None, type=COMPLETED, result=UnpersistedResult(type='unpersisted', artifact_type='result', artifact_description='Unpersisted result of type `NoneType`')),\n",
       " Completed(message=None, type=COMPLETED, result=UnpersistedResult(type='unpersisted', artifact_type='result', artifact_description='Unpersisted result of type `tuple`')),\n",
       " Completed(message=None, type=COMPLETED, result=UnpersistedResult(type='unpersisted', artifact_type='result', artifact_description='Unpersisted result of type `ndarray`')),\n",
       " Completed(message=None, type=COMPLETED, result=UnpersistedResult(type='unpersisted', artifact_type='result', artifact_description='Unpersisted result of type `NoneType`')),\n",
       " Completed(message=None, type=COMPLETED, result=UnpersistedResult(type='unpersisted', artifact_type='result', artifact_description='Unpersisted result of type `NoneType`'))]"
      ]
     },
     "execution_count": 16,
     "metadata": {},
     "output_type": "execute_result"
    }
   ],
   "source": [
    "spike_detection.spike_detection_flow()"
   ]
  },
  {
   "cell_type": "code",
   "execution_count": 2,
   "metadata": {},
   "outputs": [],
   "source": [
    "\n",
    "import heartbeat_detection"
   ]
  },
  {
   "cell_type": "code",
   "execution_count": 8,
   "metadata": {},
   "outputs": [
    {
     "data": {
      "text/html": [
       "<pre style=\"white-space:pre;overflow-x:auto;line-height:normal;font-family:Menlo,'DejaVu Sans Mono',consolas,'Courier New',monospace\">21:52:51.451 | <span style=\"color: #008080; text-decoration-color: #008080\">INFO</span>    | prefect.engine - Created task run 'generate_heartbeat_waveforms-83a0cdd0' for task 'generate_heartbeat_waveforms'\n",
       "</pre>\n"
      ],
      "text/plain": [
       "21:52:51.451 | \u001b[36mINFO\u001b[0m    | prefect.engine - Created task run 'generate_heartbeat_waveforms-83a0cdd0' for task 'generate_heartbeat_waveforms'\n"
      ]
     },
     "metadata": {},
     "output_type": "display_data"
    },
    {
     "data": {
      "text/html": [
       "<pre style=\"white-space:pre;overflow-x:auto;line-height:normal;font-family:Menlo,'DejaVu Sans Mono',consolas,'Courier New',monospace\">21:52:51.481 | <span style=\"color: #008080; text-decoration-color: #008080\">INFO</span>    | Task run 'generate_heartbeat_waveforms-83a0cdd0' - Heartbeat waveforms generated!\n",
       "</pre>\n"
      ],
      "text/plain": [
       "21:52:51.481 | \u001b[36mINFO\u001b[0m    | Task run 'generate_heartbeat_waveforms-83a0cdd0' - Heartbeat waveforms generated!\n"
      ]
     },
     "metadata": {},
     "output_type": "display_data"
    },
    {
     "data": {
      "text/html": [
       "<pre style=\"white-space:pre;overflow-x:auto;line-height:normal;font-family:Menlo,'DejaVu Sans Mono',consolas,'Courier New',monospace\">21:52:51.503 | <span style=\"color: #008080; text-decoration-color: #008080\">INFO</span>    | Task run 'generate_heartbeat_waveforms-83a0cdd0' - Finished in state <span style=\"color: #008000; text-decoration-color: #008000\">Completed</span>()\n",
       "</pre>\n"
      ],
      "text/plain": [
       "21:52:51.503 | \u001b[36mINFO\u001b[0m    | Task run 'generate_heartbeat_waveforms-83a0cdd0' - Finished in state \u001b[32mCompleted\u001b[0m()\n"
      ]
     },
     "metadata": {},
     "output_type": "display_data"
    },
    {
     "data": {
      "application/vnd.plotly.v1+json": {
       "config": {
        "plotlyServerURL": "https://plot.ly"
       },
       "data": [
        {
         "hovertemplate": "point_0=0.0<br>Point Index=%{x}<br>Value=%{y}<extra></extra>",
         "legendgroup": "0.0",
         "line": {
          "color": "#636efa",
          "dash": "solid"
         },
         "marker": {
          "symbol": "circle"
         },
         "mode": "lines",
         "name": "0.0",
         "orientation": "v",
         "showlegend": true,
         "type": "scatter",
         "x": [
          "point_1",
          "point_2",
          "point_3",
          "point_4",
          "point_5",
          "point_6",
          "point_7",
          "point_8",
          "point_9",
          "point_10",
          "point_11",
          "point_12",
          "point_13",
          "point_14",
          "point_15",
          "point_16",
          "point_17",
          "point_18",
          "point_19",
          "point_20",
          "point_21",
          "point_22",
          "point_23",
          "point_24",
          "point_25",
          "point_26",
          "point_27",
          "point_28",
          "point_29",
          "point_30",
          "point_31",
          "point_32",
          "point_33",
          "point_34",
          "point_35",
          "point_36",
          "point_37",
          "point_38",
          "point_39",
          "point_40",
          "point_41",
          "point_42",
          "point_43",
          "point_44",
          "point_45",
          "point_46",
          "point_47",
          "point_48",
          "point_49",
          "point_50",
          "point_51",
          "point_52",
          "point_53",
          "point_54",
          "point_55",
          "point_56",
          "point_57",
          "point_58",
          "point_59",
          "point_60",
          "point_61",
          "point_62",
          "point_63",
          "point_64",
          "point_65",
          "point_66",
          "point_67",
          "point_68",
          "point_69",
          "point_70",
          "point_71",
          "point_72",
          "point_73",
          "point_74",
          "point_75",
          "point_76",
          "point_77",
          "point_78",
          "point_79",
          "point_80",
          "point_81",
          "point_82",
          "point_83",
          "point_84",
          "point_85",
          "point_86",
          "point_87",
          "point_88",
          "point_89",
          "point_90",
          "point_91",
          "point_92",
          "point_93",
          "point_94",
          "point_95",
          "point_96",
          "point_97",
          "point_98",
          "point_99",
          "label"
         ],
         "xaxis": "x",
         "y": [
          0.1008384202581046,
          0.2006488565226854,
          0.2984138044476411,
          0.3931366121483298,
          0.48385164043793466,
          0.5696341069089657,
          0.6496095135057065,
          0.7229625614794605,
          0.7889454628442574,
          0.8468855636029834,
          0.8961922010299563,
          0.9363627251042848,
          0.9669876227092996,
          0.9877546923600838,
          0.9984522269003895,
          0.9989711717233568,
          0.9893062365143401,
          0.9695559491823237,
          0.9399216514301312,
          0.9007054462029555,
          0.8523071179396752,
          0.7952200570230491,
          0.7300262299764464,
          0.6573902466827755,
          0.5780525851065732,
          0.4928220425889235,
          0.40256749066949654,
          0.30820901749007684,
          0.2107085480771929,
          0.11106003812412972,
          0.010279341240534697,
          -0.09060614703340773,
          -0.19056796287548539,
          -0.28858705872043244,
          -0.38366419180611233,
          -0.47483011082223947,
          -0.5611554368152017,
          -0.6417601376193878,
          -0.7158224992291902,
          -0.7825875026542022,
          -0.8413745208608701,
          -0.8915842573351402,
          -0.9327048555318336,
          -0.9643171169287782,
          -0.9860987744909296,
          -0.9978277779792126,
          -0.9993845576124357,
          -0.9907532430056771,
          -0.9720218249588334,
          -0.9433812584459996,
          -0.9051235159501367,
          -0.8576386109880517,
          -0.8014106221689697,
          -0.7370127583189133,
          -0.6651015149788224,
          -0.586409981847235,
          -0.5017403693939113,
          -0.4119558308308628,
          -0.31797166281061867,
          -0.22074597455506334,
          -0.12126992053716677,
          -0.020557596287260064,
          0.08036429967028173,
          0.18046693235991093,
          0.27872981867755725,
          0.37415123057121996,
          0.4657584070256517,
          0.5526174707464059,
          0.6338429484489058,
          0.7086067976992182,
          0.7761468482835805,
          0.8357745720522589,
          0.8868821020290788,
          0.9289484292312513,
          0.9615447140268235,
          0.9843386578838236,
          0.9970978909438748,
          0.9996923408861117,
          0.9920955589323228,
          0.9743849894755358,
          0.9467411805833543,
          0.9094459434244625,
          0.8628794793817836,
          0.8075165041395626,
          0.7439214082568444,
          0.6727425035622647,
          0.5947054140244975,
          0.510605678474283,
          0.4213006405886069,
          0.32770070881349983,
          0.23076007532505177,
          0.13146698864295842,
          0.03083367906114098,
          -0.07011396040064677,
          -0.1703468323280965,
          -0.26884312591038406,
          -0.3645987336558887,
          -0.45663748763377376,
          -0.5440211108893698,
          "normal"
         ],
         "yaxis": "y"
        },
        {
         "hovertemplate": "point_0=0.04967141530112327<br>Point Index=%{x}<br>Value=%{y}<extra></extra>",
         "legendgroup": "0.04967141530112327",
         "line": {
          "color": "#EF553B",
          "dash": "solid"
         },
         "marker": {
          "symbol": "circle"
         },
         "mode": "lines",
         "name": "0.04967141530112327",
         "orientation": "v",
         "showlegend": true,
         "type": "scatter",
         "x": [
          "point_1",
          "point_2",
          "point_3",
          "point_4",
          "point_5",
          "point_6",
          "point_7",
          "point_8",
          "point_9",
          "point_10",
          "point_11",
          "point_12",
          "point_13",
          "point_14",
          "point_15",
          "point_16",
          "point_17",
          "point_18",
          "point_19",
          "point_20",
          "point_21",
          "point_22",
          "point_23",
          "point_24",
          "point_25",
          "point_26",
          "point_27",
          "point_28",
          "point_29",
          "point_30",
          "point_31",
          "point_32",
          "point_33",
          "point_34",
          "point_35",
          "point_36",
          "point_37",
          "point_38",
          "point_39",
          "point_40",
          "point_41",
          "point_42",
          "point_43",
          "point_44",
          "point_45",
          "point_46",
          "point_47",
          "point_48",
          "point_49",
          "point_50",
          "point_51",
          "point_52",
          "point_53",
          "point_54",
          "point_55",
          "point_56",
          "point_57",
          "point_58",
          "point_59",
          "point_60",
          "point_61",
          "point_62",
          "point_63",
          "point_64",
          "point_65",
          "point_66",
          "point_67",
          "point_68",
          "point_69",
          "point_70",
          "point_71",
          "point_72",
          "point_73",
          "point_74",
          "point_75",
          "point_76",
          "point_77",
          "point_78",
          "point_79",
          "point_80",
          "point_81",
          "point_82",
          "point_83",
          "point_84",
          "point_85",
          "point_86",
          "point_87",
          "point_88",
          "point_89",
          "point_90",
          "point_91",
          "point_92",
          "point_93",
          "point_94",
          "point_95",
          "point_96",
          "point_97",
          "point_98",
          "point_99",
          "label"
         ],
         "xaxis": "x",
         "y": [
          0.08701199014098614,
          0.26541771033275463,
          0.4507167900884437,
          0.3697212746759962,
          0.4604379447430166,
          0.7275553884597048,
          0.7263529864209974,
          0.6760151228859652,
          0.8432014672028538,
          0.8005437943217372,
          0.8496192256729307,
          0.9605589522608882,
          0.7756595982435198,
          0.8152629091087805,
          0.9422234739762922,
          0.8976880596899144,
          1.0207309697738676,
          0.8787535416302026,
          0.798691281296602,
          1.0472703230951108,
          0.8297294878910216,
          0.8019728774918414,
          0.5875514113551007,
          0.6029519742302571,
          0.5891448440775598,
          0.3777226848466932,
          0.44013729250406375,
          0.24814514849819636,
          0.18153917309786521,
          0.050889376901190025,
          0.19550715969142848,
          -0.09195586950720112,
          -0.29633905577107544,
          -0.20633256751011353,
          -0.5057485568032145,
          -0.4539437513217639,
          -0.7571224492031793,
          -0.7745787425092309,
          -0.6961363756422778,
          -0.7087408446546611,
          -0.824237692741873,
          -0.9031490855739643,
          -0.9628152250907624,
          -1.112169315965521,
          -1.0580831953304004,
          -1.0438916550751913,
          -0.8936723349905441,
          -0.956391414048831,
          -1.1483258404951067,
          4.0890271384934795,
          -0.9436317439917684,
          -0.9253308110186476,
          -0.740242993284883,
          -0.6339128060693182,
          -0.5719735030672025,
          -0.6703317341694989,
          -0.5326616069790328,
          -0.3788294876905064,
          -0.22041715009838275,
          -0.26866339833959235,
          -0.13983581820354848,
          -0.1311910936878629,
          -0.03925636273778535,
          0.26171951459933074,
          0.4143538215346395,
          0.3669502184131866,
          0.5661116968148541,
          0.5887810732511694,
          0.5693309729883933,
          0.7447463582500596,
          0.9299505049301774,
          0.8321919681412637,
          1.0433464676104793,
          0.6669739188222769,
          1.0437349644643459,
          0.9930433647076407,
          0.967197155897288,
          1.008868418539662,
          0.7933386674722336,
          0.9524178006917846,
          0.982452437734529,
          1.057235347898614,
          0.8110524575544188,
          0.7266671438502438,
          0.6937457038983907,
          0.7642827153324722,
          0.6275805249904659,
          0.45762965809757905,
          0.4726273838999425,
          0.33740846374830386,
          0.3276245743783407,
          0.061261679255223175,
          -0.0019325355986358449,
          -0.10932477571386254,
          -0.31669832714130836,
          -0.23923109820392646,
          -0.33849320643789976,
          -0.45612614196952767,
          -0.5674798242268845,
          "irregular"
         ],
         "yaxis": "y"
        },
        {
         "hovertemplate": "point_0=1.0<br>Point Index=%{x}<br>Value=%{y}<extra></extra>",
         "legendgroup": "1.0",
         "line": {
          "color": "#00cc96",
          "dash": "solid"
         },
         "marker": {
          "symbol": "circle"
         },
         "mode": "lines",
         "name": "1.0",
         "orientation": "v",
         "showlegend": true,
         "type": "scatter",
         "x": [
          "point_1",
          "point_2",
          "point_3",
          "point_4",
          "point_5",
          "point_6",
          "point_7",
          "point_8",
          "point_9",
          "point_10",
          "point_11",
          "point_12",
          "point_13",
          "point_14",
          "point_15",
          "point_16",
          "point_17",
          "point_18",
          "point_19",
          "point_20",
          "point_21",
          "point_22",
          "point_23",
          "point_24",
          "point_25",
          "point_26",
          "point_27",
          "point_28",
          "point_29",
          "point_30",
          "point_31",
          "point_32",
          "point_33",
          "point_34",
          "point_35",
          "point_36",
          "point_37",
          "point_38",
          "point_39",
          "point_40",
          "point_41",
          "point_42",
          "point_43",
          "point_44",
          "point_45",
          "point_46",
          "point_47",
          "point_48",
          "point_49",
          "point_50",
          "point_51",
          "point_52",
          "point_53",
          "point_54",
          "point_55",
          "point_56",
          "point_57",
          "point_58",
          "point_59",
          "point_60",
          "point_61",
          "point_62",
          "point_63",
          "point_64",
          "point_65",
          "point_66",
          "point_67",
          "point_68",
          "point_69",
          "point_70",
          "point_71",
          "point_72",
          "point_73",
          "point_74",
          "point_75",
          "point_76",
          "point_77",
          "point_78",
          "point_79",
          "point_80",
          "point_81",
          "point_82",
          "point_83",
          "point_84",
          "point_85",
          "point_86",
          "point_87",
          "point_88",
          "point_89",
          "point_90",
          "point_91",
          "point_92",
          "point_93",
          "point_94",
          "point_95",
          "point_96",
          "point_97",
          "point_98",
          "point_99",
          "label"
         ],
         "xaxis": "x",
         "y": [
          0.9949028158568303,
          0.9796632259996998,
          0.9544365884201449,
          0.9194800727522776,
          0.8751500385908233,
          0.82189840263017,
          0.7602680316591506,
          0.6908872083770674,
          0.6144632264484674,
          0.5317751800910392,
          0.4436660217022285,
          0.3510339684920502,
          0.25482334572604864,
          0.15601495992575853,
          0.05561610016580674,
          -0.04534973060188524,
          -0.1458532495141353,
          -0.24486988668507892,
          -0.3413902300489206,
          -0.43443031567828566,
          -0.5230416586748752,
          -0.6063209223738354,
          -0.6834191272904034,
          -0.7535503059294446,
          -0.815999515227557,
          -0.8701301249459654,
          -0.9153903077136358,
          -0.9513186645587279,
          -0.9775489285796396,
          -0.993813698804694,
          -0.9999471661761239,
          -0.9958868038686729,
          -0.981674004711079,
          -0.9574536592123347,
          -0.9234726784944765,
          -0.8800774771896732,
          -0.8277104419618857,
          -0.7669054216542901,
          -0.69828228503756,
          -0.6225406016393301,
          -0.5404525100747903,
          -0.45285484658127084,
          -0.3606406140014481,
          -0.2647498781834829,
          -0.16616018460355267,
          -0.06587659290724678,
          0.03507856903860484,
          0.13567612713271912,
          0.23489055281917826,
          0.33171041770321597,
          0.42514870442477243,
          0.5142528686769626,
          0.5981145497935533,
          0.6758788309121296,
          0.7467529543114478,
          0.810014403075603,
          0.865018266697566,
          0.9112038155344026,
          0.9481002170917641,
          0.9753313358637337,
          0.9926195677967009,
          0.9997886702873213,
          0.9967655588645231,
          0.983581052239521,
          0.9603695581285238,
          0.9273677030509753,
          0.8849119200716687,
          0.8334350190781794,
          0.7734617745574747,
          0.7056035758515253,
          0.6305521944291881,
          0.5490727317130796,
          0.4619958193539013,
          0.3702091514654802,
          0.2746484351440477,
          0.17628785152548898,
          0.07613012462407193,
          -0.02480370080544784,
          -0.12548466817409182,
          -0.22488639862108173,
          -0.3219955542979381,
          -0.41582216870771727,
          -0.5054097387880672,
          -0.5898449758557073,
          -0.6682671160076287,
          -0.7398766950653171,
          -0.80394369860703,
          -0.859815004003662,
          -0.9069210385913591,
          -0.9447815861050266,
          -0.973010682179788,
          -0.9913205490138658,
          -0.9995245290814802,
          -0.9975389879884077,
          -0.9853841670717991,
          -0.9631839770525324,
          -0.9311647348436916,
          -0.8896528563926016,
          -0.8390715290764524,
          "normal"
         ],
         "yaxis": "y"
        },
        {
         "hovertemplate": "point_0=0.8584629257949585<br>Point Index=%{x}<br>Value=%{y}<extra></extra>",
         "legendgroup": "0.8584629257949585",
         "line": {
          "color": "#ab63fa",
          "dash": "solid"
         },
         "marker": {
          "symbol": "circle"
         },
         "mode": "lines",
         "name": "0.8584629257949585",
         "orientation": "v",
         "showlegend": true,
         "type": "scatter",
         "x": [
          "point_1",
          "point_2",
          "point_3",
          "point_4",
          "point_5",
          "point_6",
          "point_7",
          "point_8",
          "point_9",
          "point_10",
          "point_11",
          "point_12",
          "point_13",
          "point_14",
          "point_15",
          "point_16",
          "point_17",
          "point_18",
          "point_19",
          "point_20",
          "point_21",
          "point_22",
          "point_23",
          "point_24",
          "point_25",
          "point_26",
          "point_27",
          "point_28",
          "point_29",
          "point_30",
          "point_31",
          "point_32",
          "point_33",
          "point_34",
          "point_35",
          "point_36",
          "point_37",
          "point_38",
          "point_39",
          "point_40",
          "point_41",
          "point_42",
          "point_43",
          "point_44",
          "point_45",
          "point_46",
          "point_47",
          "point_48",
          "point_49",
          "point_50",
          "point_51",
          "point_52",
          "point_53",
          "point_54",
          "point_55",
          "point_56",
          "point_57",
          "point_58",
          "point_59",
          "point_60",
          "point_61",
          "point_62",
          "point_63",
          "point_64",
          "point_65",
          "point_66",
          "point_67",
          "point_68",
          "point_69",
          "point_70",
          "point_71",
          "point_72",
          "point_73",
          "point_74",
          "point_75",
          "point_76",
          "point_77",
          "point_78",
          "point_79",
          "point_80",
          "point_81",
          "point_82",
          "point_83",
          "point_84",
          "point_85",
          "point_86",
          "point_87",
          "point_88",
          "point_89",
          "point_90",
          "point_91",
          "point_92",
          "point_93",
          "point_94",
          "point_95",
          "point_96",
          "point_97",
          "point_98",
          "point_99",
          "label"
         ],
         "xaxis": "x",
         "y": [
          0.9528382835802943,
          0.9453917743470228,
          0.874208861497983,
          0.9033515015856767,
          0.9155551242722771,
          1.010516992751223,
          0.7777258129423344,
          0.7166422474493438,
          0.6070186348718507,
          0.33989805856113503,
          0.44101463415730685,
          0.35705698948615283,
          0.5011475569745772,
          0.13677886344764628,
          0.085770834399168,
          -0.048820907572409575,
          -0.2627210532760885,
          -0.13058760523357688,
          -0.2661969267802432,
          -0.35532712097398095,
          -0.6139804041543491,
          -0.46604149128022543,
          -0.8236042335696315,
          -0.6948645965494176,
          -0.5969539526465591,
          -0.9691837574590343,
          -0.972020080673913,
          -0.9413535280499639,
          -1.0278964939912596,
          3.8511199580886926,
          -0.9930908686955212,
          -1.1021171752412835,
          -0.9343147616475609,
          -1.049396082635715,
          -0.7684792379927226,
          -0.9584028064232969,
          -0.8599165935824533,
          -0.6855536999173231,
          -0.8213687166809555,
          -0.5997946081789172,
          -0.4097382346465475,
          -0.6136031700373936,
          -0.34217722814821766,
          -0.23876159875864053,
          -0.08797789742582163,
          -0.18957166399505498,
          -0.09696709226982278,
          0.1878702836944089,
          0.26458902014249686,
          0.3567597027378036,
          0.45979352537447,
          0.4462503965191135,
          0.6213399195096536,
          0.7051860782419977,
          0.6753178125088111,
          0.9965918541900787,
          0.9124015587887447,
          0.7920734658141377,
          1.013755577955147,
          0.8778631688410015,
          1.071328028170946,
          1.1156482281880618,
          0.914697327029352,
          1.0799186651639532,
          1.0016476508221737,
          1.0095737190504244,
          1.0745912183370634,
          0.8088962074778924,
          0.6980881581217258,
          0.616652132888973,
          0.5489711659326443,
          0.5413625607716691,
          0.4961110168355657,
          0.3978782313984821,
          0.35736676004765006,
          0.1775880407132797,
          0.2214835323398036,
          -0.05126938412924345,
          0.14653224848487006,
          -0.1623196638445811,
          -0.40771130993956634,
          -0.5229114185138285,
          -0.45716249726374864,
          -0.6121912543882924,
          -0.5968670665984195,
          -0.6925529326079626,
          -0.8112265898727172,
          -0.9444943758105024,
          -1.0584057610599455,
          -0.9894330813117287,
          -0.8873708027474407,
          -0.9699111746008454,
          -1.124098406952679,
          -0.9802208954032895,
          -0.9468524290989154,
          -1.0515697206726458,
          -0.9157922242491388,
          -0.8838319845480016,
          -0.9533685588595148,
          "irregular"
         ],
         "yaxis": "y"
        }
       ],
       "layout": {
        "legend": {
         "title": {
          "text": "point_0"
         },
         "tracegroupgap": 0
        },
        "template": {
         "data": {
          "bar": [
           {
            "error_x": {
             "color": "#2a3f5f"
            },
            "error_y": {
             "color": "#2a3f5f"
            },
            "marker": {
             "line": {
              "color": "#E5ECF6",
              "width": 0.5
             },
             "pattern": {
              "fillmode": "overlay",
              "size": 10,
              "solidity": 0.2
             }
            },
            "type": "bar"
           }
          ],
          "barpolar": [
           {
            "marker": {
             "line": {
              "color": "#E5ECF6",
              "width": 0.5
             },
             "pattern": {
              "fillmode": "overlay",
              "size": 10,
              "solidity": 0.2
             }
            },
            "type": "barpolar"
           }
          ],
          "carpet": [
           {
            "aaxis": {
             "endlinecolor": "#2a3f5f",
             "gridcolor": "white",
             "linecolor": "white",
             "minorgridcolor": "white",
             "startlinecolor": "#2a3f5f"
            },
            "baxis": {
             "endlinecolor": "#2a3f5f",
             "gridcolor": "white",
             "linecolor": "white",
             "minorgridcolor": "white",
             "startlinecolor": "#2a3f5f"
            },
            "type": "carpet"
           }
          ],
          "choropleth": [
           {
            "colorbar": {
             "outlinewidth": 0,
             "ticks": ""
            },
            "type": "choropleth"
           }
          ],
          "contour": [
           {
            "colorbar": {
             "outlinewidth": 0,
             "ticks": ""
            },
            "colorscale": [
             [
              0,
              "#0d0887"
             ],
             [
              0.1111111111111111,
              "#46039f"
             ],
             [
              0.2222222222222222,
              "#7201a8"
             ],
             [
              0.3333333333333333,
              "#9c179e"
             ],
             [
              0.4444444444444444,
              "#bd3786"
             ],
             [
              0.5555555555555556,
              "#d8576b"
             ],
             [
              0.6666666666666666,
              "#ed7953"
             ],
             [
              0.7777777777777778,
              "#fb9f3a"
             ],
             [
              0.8888888888888888,
              "#fdca26"
             ],
             [
              1,
              "#f0f921"
             ]
            ],
            "type": "contour"
           }
          ],
          "contourcarpet": [
           {
            "colorbar": {
             "outlinewidth": 0,
             "ticks": ""
            },
            "type": "contourcarpet"
           }
          ],
          "heatmap": [
           {
            "colorbar": {
             "outlinewidth": 0,
             "ticks": ""
            },
            "colorscale": [
             [
              0,
              "#0d0887"
             ],
             [
              0.1111111111111111,
              "#46039f"
             ],
             [
              0.2222222222222222,
              "#7201a8"
             ],
             [
              0.3333333333333333,
              "#9c179e"
             ],
             [
              0.4444444444444444,
              "#bd3786"
             ],
             [
              0.5555555555555556,
              "#d8576b"
             ],
             [
              0.6666666666666666,
              "#ed7953"
             ],
             [
              0.7777777777777778,
              "#fb9f3a"
             ],
             [
              0.8888888888888888,
              "#fdca26"
             ],
             [
              1,
              "#f0f921"
             ]
            ],
            "type": "heatmap"
           }
          ],
          "heatmapgl": [
           {
            "colorbar": {
             "outlinewidth": 0,
             "ticks": ""
            },
            "colorscale": [
             [
              0,
              "#0d0887"
             ],
             [
              0.1111111111111111,
              "#46039f"
             ],
             [
              0.2222222222222222,
              "#7201a8"
             ],
             [
              0.3333333333333333,
              "#9c179e"
             ],
             [
              0.4444444444444444,
              "#bd3786"
             ],
             [
              0.5555555555555556,
              "#d8576b"
             ],
             [
              0.6666666666666666,
              "#ed7953"
             ],
             [
              0.7777777777777778,
              "#fb9f3a"
             ],
             [
              0.8888888888888888,
              "#fdca26"
             ],
             [
              1,
              "#f0f921"
             ]
            ],
            "type": "heatmapgl"
           }
          ],
          "histogram": [
           {
            "marker": {
             "pattern": {
              "fillmode": "overlay",
              "size": 10,
              "solidity": 0.2
             }
            },
            "type": "histogram"
           }
          ],
          "histogram2d": [
           {
            "colorbar": {
             "outlinewidth": 0,
             "ticks": ""
            },
            "colorscale": [
             [
              0,
              "#0d0887"
             ],
             [
              0.1111111111111111,
              "#46039f"
             ],
             [
              0.2222222222222222,
              "#7201a8"
             ],
             [
              0.3333333333333333,
              "#9c179e"
             ],
             [
              0.4444444444444444,
              "#bd3786"
             ],
             [
              0.5555555555555556,
              "#d8576b"
             ],
             [
              0.6666666666666666,
              "#ed7953"
             ],
             [
              0.7777777777777778,
              "#fb9f3a"
             ],
             [
              0.8888888888888888,
              "#fdca26"
             ],
             [
              1,
              "#f0f921"
             ]
            ],
            "type": "histogram2d"
           }
          ],
          "histogram2dcontour": [
           {
            "colorbar": {
             "outlinewidth": 0,
             "ticks": ""
            },
            "colorscale": [
             [
              0,
              "#0d0887"
             ],
             [
              0.1111111111111111,
              "#46039f"
             ],
             [
              0.2222222222222222,
              "#7201a8"
             ],
             [
              0.3333333333333333,
              "#9c179e"
             ],
             [
              0.4444444444444444,
              "#bd3786"
             ],
             [
              0.5555555555555556,
              "#d8576b"
             ],
             [
              0.6666666666666666,
              "#ed7953"
             ],
             [
              0.7777777777777778,
              "#fb9f3a"
             ],
             [
              0.8888888888888888,
              "#fdca26"
             ],
             [
              1,
              "#f0f921"
             ]
            ],
            "type": "histogram2dcontour"
           }
          ],
          "mesh3d": [
           {
            "colorbar": {
             "outlinewidth": 0,
             "ticks": ""
            },
            "type": "mesh3d"
           }
          ],
          "parcoords": [
           {
            "line": {
             "colorbar": {
              "outlinewidth": 0,
              "ticks": ""
             }
            },
            "type": "parcoords"
           }
          ],
          "pie": [
           {
            "automargin": true,
            "type": "pie"
           }
          ],
          "scatter": [
           {
            "fillpattern": {
             "fillmode": "overlay",
             "size": 10,
             "solidity": 0.2
            },
            "type": "scatter"
           }
          ],
          "scatter3d": [
           {
            "line": {
             "colorbar": {
              "outlinewidth": 0,
              "ticks": ""
             }
            },
            "marker": {
             "colorbar": {
              "outlinewidth": 0,
              "ticks": ""
             }
            },
            "type": "scatter3d"
           }
          ],
          "scattercarpet": [
           {
            "marker": {
             "colorbar": {
              "outlinewidth": 0,
              "ticks": ""
             }
            },
            "type": "scattercarpet"
           }
          ],
          "scattergeo": [
           {
            "marker": {
             "colorbar": {
              "outlinewidth": 0,
              "ticks": ""
             }
            },
            "type": "scattergeo"
           }
          ],
          "scattergl": [
           {
            "marker": {
             "colorbar": {
              "outlinewidth": 0,
              "ticks": ""
             }
            },
            "type": "scattergl"
           }
          ],
          "scattermapbox": [
           {
            "marker": {
             "colorbar": {
              "outlinewidth": 0,
              "ticks": ""
             }
            },
            "type": "scattermapbox"
           }
          ],
          "scatterpolar": [
           {
            "marker": {
             "colorbar": {
              "outlinewidth": 0,
              "ticks": ""
             }
            },
            "type": "scatterpolar"
           }
          ],
          "scatterpolargl": [
           {
            "marker": {
             "colorbar": {
              "outlinewidth": 0,
              "ticks": ""
             }
            },
            "type": "scatterpolargl"
           }
          ],
          "scatterternary": [
           {
            "marker": {
             "colorbar": {
              "outlinewidth": 0,
              "ticks": ""
             }
            },
            "type": "scatterternary"
           }
          ],
          "surface": [
           {
            "colorbar": {
             "outlinewidth": 0,
             "ticks": ""
            },
            "colorscale": [
             [
              0,
              "#0d0887"
             ],
             [
              0.1111111111111111,
              "#46039f"
             ],
             [
              0.2222222222222222,
              "#7201a8"
             ],
             [
              0.3333333333333333,
              "#9c179e"
             ],
             [
              0.4444444444444444,
              "#bd3786"
             ],
             [
              0.5555555555555556,
              "#d8576b"
             ],
             [
              0.6666666666666666,
              "#ed7953"
             ],
             [
              0.7777777777777778,
              "#fb9f3a"
             ],
             [
              0.8888888888888888,
              "#fdca26"
             ],
             [
              1,
              "#f0f921"
             ]
            ],
            "type": "surface"
           }
          ],
          "table": [
           {
            "cells": {
             "fill": {
              "color": "#EBF0F8"
             },
             "line": {
              "color": "white"
             }
            },
            "header": {
             "fill": {
              "color": "#C8D4E3"
             },
             "line": {
              "color": "white"
             }
            },
            "type": "table"
           }
          ]
         },
         "layout": {
          "annotationdefaults": {
           "arrowcolor": "#2a3f5f",
           "arrowhead": 0,
           "arrowwidth": 1
          },
          "autotypenumbers": "strict",
          "coloraxis": {
           "colorbar": {
            "outlinewidth": 0,
            "ticks": ""
           }
          },
          "colorscale": {
           "diverging": [
            [
             0,
             "#8e0152"
            ],
            [
             0.1,
             "#c51b7d"
            ],
            [
             0.2,
             "#de77ae"
            ],
            [
             0.3,
             "#f1b6da"
            ],
            [
             0.4,
             "#fde0ef"
            ],
            [
             0.5,
             "#f7f7f7"
            ],
            [
             0.6,
             "#e6f5d0"
            ],
            [
             0.7,
             "#b8e186"
            ],
            [
             0.8,
             "#7fbc41"
            ],
            [
             0.9,
             "#4d9221"
            ],
            [
             1,
             "#276419"
            ]
           ],
           "sequential": [
            [
             0,
             "#0d0887"
            ],
            [
             0.1111111111111111,
             "#46039f"
            ],
            [
             0.2222222222222222,
             "#7201a8"
            ],
            [
             0.3333333333333333,
             "#9c179e"
            ],
            [
             0.4444444444444444,
             "#bd3786"
            ],
            [
             0.5555555555555556,
             "#d8576b"
            ],
            [
             0.6666666666666666,
             "#ed7953"
            ],
            [
             0.7777777777777778,
             "#fb9f3a"
            ],
            [
             0.8888888888888888,
             "#fdca26"
            ],
            [
             1,
             "#f0f921"
            ]
           ],
           "sequentialminus": [
            [
             0,
             "#0d0887"
            ],
            [
             0.1111111111111111,
             "#46039f"
            ],
            [
             0.2222222222222222,
             "#7201a8"
            ],
            [
             0.3333333333333333,
             "#9c179e"
            ],
            [
             0.4444444444444444,
             "#bd3786"
            ],
            [
             0.5555555555555556,
             "#d8576b"
            ],
            [
             0.6666666666666666,
             "#ed7953"
            ],
            [
             0.7777777777777778,
             "#fb9f3a"
            ],
            [
             0.8888888888888888,
             "#fdca26"
            ],
            [
             1,
             "#f0f921"
            ]
           ]
          },
          "colorway": [
           "#636efa",
           "#EF553B",
           "#00cc96",
           "#ab63fa",
           "#FFA15A",
           "#19d3f3",
           "#FF6692",
           "#B6E880",
           "#FF97FF",
           "#FECB52"
          ],
          "font": {
           "color": "#2a3f5f"
          },
          "geo": {
           "bgcolor": "white",
           "lakecolor": "white",
           "landcolor": "#E5ECF6",
           "showlakes": true,
           "showland": true,
           "subunitcolor": "white"
          },
          "hoverlabel": {
           "align": "left"
          },
          "hovermode": "closest",
          "mapbox": {
           "style": "light"
          },
          "paper_bgcolor": "white",
          "plot_bgcolor": "#E5ECF6",
          "polar": {
           "angularaxis": {
            "gridcolor": "white",
            "linecolor": "white",
            "ticks": ""
           },
           "bgcolor": "#E5ECF6",
           "radialaxis": {
            "gridcolor": "white",
            "linecolor": "white",
            "ticks": ""
           }
          },
          "scene": {
           "xaxis": {
            "backgroundcolor": "#E5ECF6",
            "gridcolor": "white",
            "gridwidth": 2,
            "linecolor": "white",
            "showbackground": true,
            "ticks": "",
            "zerolinecolor": "white"
           },
           "yaxis": {
            "backgroundcolor": "#E5ECF6",
            "gridcolor": "white",
            "gridwidth": 2,
            "linecolor": "white",
            "showbackground": true,
            "ticks": "",
            "zerolinecolor": "white"
           },
           "zaxis": {
            "backgroundcolor": "#E5ECF6",
            "gridcolor": "white",
            "gridwidth": 2,
            "linecolor": "white",
            "showbackground": true,
            "ticks": "",
            "zerolinecolor": "white"
           }
          },
          "shapedefaults": {
           "line": {
            "color": "#2a3f5f"
           }
          },
          "ternary": {
           "aaxis": {
            "gridcolor": "white",
            "linecolor": "white",
            "ticks": ""
           },
           "baxis": {
            "gridcolor": "white",
            "linecolor": "white",
            "ticks": ""
           },
           "bgcolor": "#E5ECF6",
           "caxis": {
            "gridcolor": "white",
            "linecolor": "white",
            "ticks": ""
           }
          },
          "title": {
           "x": 0.05
          },
          "xaxis": {
           "automargin": true,
           "gridcolor": "white",
           "linecolor": "white",
           "ticks": "",
           "title": {
            "standoff": 15
           },
           "zerolinecolor": "white",
           "zerolinewidth": 2
          },
          "yaxis": {
           "automargin": true,
           "gridcolor": "white",
           "linecolor": "white",
           "ticks": "",
           "title": {
            "standoff": 15
           },
           "zerolinecolor": "white",
           "zerolinewidth": 2
          }
         }
        },
        "title": {
         "text": "Line Plot for Each Row in DataFrame"
        },
        "xaxis": {
         "anchor": "y",
         "domain": [
          0,
          1
         ],
         "title": {
          "text": "Point Index"
         }
        },
        "yaxis": {
         "anchor": "x",
         "domain": [
          0,
          1
         ],
         "title": {
          "text": "Value"
         }
        }
       }
      }
     },
     "metadata": {},
     "output_type": "display_data"
    }
   ],
   "source": [
    "\n",
    "df = await heartbeat_detection.generate_heartbeat_waveforms()\n",
    "import plotly.express as px\n",
    "# Assuming df is your DataFrame\n",
    "df_melted = df.melt(id_vars=[df.columns[0]], var_name='Point Index', value_name='Value')\n",
    "\n",
    "fig = px.line(df_melted, x='Point Index', y='Value', color=df.columns[0], title='Line Plot for Each Row in DataFrame')\n",
    "fig.show()\n"
   ]
  },
  {
   "cell_type": "code",
   "execution_count": 9,
   "metadata": {},
   "outputs": [],
   "source": [
    "import collision_detection"
   ]
  },
  {
   "cell_type": "code",
   "execution_count": 12,
   "metadata": {},
   "outputs": [
    {
     "data": {
      "text/html": [
       "<pre style=\"white-space:pre;overflow-x:auto;line-height:normal;font-family:Menlo,'DejaVu Sans Mono',consolas,'Courier New',monospace\">21:58:46.104 | <span style=\"color: #008080; text-decoration-color: #008080\">INFO</span>    | prefect.engine - Created task run 'generate_sensor_data-f9dec71a' for task 'generate_sensor_data'\n",
       "</pre>\n"
      ],
      "text/plain": [
       "21:58:46.104 | \u001b[36mINFO\u001b[0m    | prefect.engine - Created task run 'generate_sensor_data-f9dec71a' for task 'generate_sensor_data'\n"
      ]
     },
     "metadata": {},
     "output_type": "display_data"
    },
    {
     "data": {
      "text/html": [
       "<pre style=\"white-space:pre;overflow-x:auto;line-height:normal;font-family:Menlo,'DejaVu Sans Mono',consolas,'Courier New',monospace\">21:58:46.134 | <span style=\"color: #008080; text-decoration-color: #008080\">INFO</span>    | Task run 'generate_sensor_data-f9dec71a' - Proximity sensor data generated!\n",
       "</pre>\n"
      ],
      "text/plain": [
       "21:58:46.134 | \u001b[36mINFO\u001b[0m    | Task run 'generate_sensor_data-f9dec71a' - Proximity sensor data generated!\n"
      ]
     },
     "metadata": {},
     "output_type": "display_data"
    },
    {
     "data": {
      "text/html": [
       "<pre style=\"white-space:pre;overflow-x:auto;line-height:normal;font-family:Menlo,'DejaVu Sans Mono',consolas,'Courier New',monospace\">21:58:46.154 | <span style=\"color: #008080; text-decoration-color: #008080\">INFO</span>    | Task run 'generate_sensor_data-f9dec71a' - Finished in state <span style=\"color: #008000; text-decoration-color: #008000\">Completed</span>()\n",
       "</pre>\n"
      ],
      "text/plain": [
       "21:58:46.154 | \u001b[36mINFO\u001b[0m    | Task run 'generate_sensor_data-f9dec71a' - Finished in state \u001b[32mCompleted\u001b[0m()\n"
      ]
     },
     "metadata": {},
     "output_type": "display_data"
    }
   ],
   "source": [
    "\n",
    "df = await collision_detection.generate_sensor_data()"
   ]
  },
  {
   "cell_type": "code",
   "execution_count": 13,
   "metadata": {},
   "outputs": [
    {
     "data": {
      "text/plain": [
       "<Axes: >"
      ]
     },
     "execution_count": 13,
     "metadata": {},
     "output_type": "execute_result"
    },
    {
     "data": {
      "image/png": "[encoded data removed]",
      "text/plain": [
       "<Figure size 640x480 with 1 Axes>"
      ]
     },
     "metadata": {},
     "output_type": "display_data"
    }
   ],
   "source": [
    "df.plot()"
   ]
  },
  {
   "cell_type": "code",
   "execution_count": 17,
   "metadata": {},
   "outputs": [
    {
     "data": {
      "text/html": [
       "<pre style=\"white-space:pre;overflow-x:auto;line-height:normal;font-family:Menlo,'DejaVu Sans Mono',consolas,'Courier New',monospace\">22:03:40.907 | <span style=\"color: #008080; text-decoration-color: #008080\">INFO</span>    | prefect.engine - Created task run 'generate_wheel_data-8ecf601a' for task 'generate_wheel_data'\n",
       "</pre>\n"
      ],
      "text/plain": [
       "22:03:40.907 | \u001b[36mINFO\u001b[0m    | prefect.engine - Created task run 'generate_wheel_data-8ecf601a' for task 'generate_wheel_data'\n"
      ]
     },
     "metadata": {},
     "output_type": "display_data"
    },
    {
     "data": {
      "text/html": [
       "<pre style=\"white-space:pre;overflow-x:auto;line-height:normal;font-family:Menlo,'DejaVu Sans Mono',consolas,'Courier New',monospace\">22:03:40.940 | <span style=\"color: #008080; text-decoration-color: #008080\">INFO</span>    | Task run 'generate_wheel_data-8ecf601a' - Wheel and robot velocity data generated!\n",
       "</pre>\n"
      ],
      "text/plain": [
       "22:03:40.940 | \u001b[36mINFO\u001b[0m    | Task run 'generate_wheel_data-8ecf601a' - Wheel and robot velocity data generated!\n"
      ]
     },
     "metadata": {},
     "output_type": "display_data"
    },
    {
     "data": {
      "text/html": [
       "<pre style=\"white-space:pre;overflow-x:auto;line-height:normal;font-family:Menlo,'DejaVu Sans Mono',consolas,'Courier New',monospace\">22:03:40.963 | <span style=\"color: #008080; text-decoration-color: #008080\">INFO</span>    | Task run 'generate_wheel_data-8ecf601a' - Finished in state <span style=\"color: #008000; text-decoration-color: #008000\">Completed</span>()\n",
       "</pre>\n"
      ],
      "text/plain": [
       "22:03:40.963 | \u001b[36mINFO\u001b[0m    | Task run 'generate_wheel_data-8ecf601a' - Finished in state \u001b[32mCompleted\u001b[0m()\n"
      ]
     },
     "metadata": {},
     "output_type": "display_data"
    },
    {
     "data": {
      "text/html": [
       "<div>\n",
       "<style scoped>\n",
       "    .dataframe tbody tr th:only-of-type {\n",
       "        vertical-align: middle;\n",
       "    }\n",
       "\n",
       "    .dataframe tbody tr th {\n",
       "        vertical-align: top;\n",
       "    }\n",
       "\n",
       "    .dataframe thead th {\n",
       "        text-align: right;\n",
       "    }\n",
       "</style>\n",
       "<table border=\"1\" class=\"dataframe\">\n",
       "  <thead>\n",
       "    <tr style=\"text-align: right;\">\n",
       "      <th></th>\n",
       "      <th>wheel_speed</th>\n",
       "      <th>robot_velocity</th>\n",
       "      <th>label</th>\n",
       "    </tr>\n",
       "  </thead>\n",
       "  <tbody>\n",
       "    <tr>\n",
       "      <th>0</th>\n",
       "      <td>10.248357</td>\n",
       "      <td>10.699678</td>\n",
       "      <td>0</td>\n",
       "    </tr>\n",
       "    <tr>\n",
       "      <th>1</th>\n",
       "      <td>9.930868</td>\n",
       "      <td>10.462317</td>\n",
       "      <td>0</td>\n",
       "    </tr>\n",
       "    <tr>\n",
       "      <th>2</th>\n",
       "      <td>10.323844</td>\n",
       "      <td>10.029815</td>\n",
       "      <td>0</td>\n",
       "    </tr>\n",
       "    <tr>\n",
       "      <th>3</th>\n",
       "      <td>10.761515</td>\n",
       "      <td>9.676532</td>\n",
       "      <td>0</td>\n",
       "    </tr>\n",
       "    <tr>\n",
       "      <th>4</th>\n",
       "      <td>9.882923</td>\n",
       "      <td>10.349112</td>\n",
       "      <td>0</td>\n",
       "    </tr>\n",
       "    <tr>\n",
       "      <th>...</th>\n",
       "      <td>...</td>\n",
       "      <td>...</td>\n",
       "      <td>...</td>\n",
       "    </tr>\n",
       "    <tr>\n",
       "      <th>1095</th>\n",
       "      <td>9.962118</td>\n",
       "      <td>4.867604</td>\n",
       "      <td>1</td>\n",
       "    </tr>\n",
       "    <tr>\n",
       "      <th>1096</th>\n",
       "      <td>10.335240</td>\n",
       "      <td>5.085177</td>\n",
       "      <td>1</td>\n",
       "    </tr>\n",
       "    <tr>\n",
       "      <th>1097</th>\n",
       "      <td>9.464071</td>\n",
       "      <td>5.003830</td>\n",
       "      <td>1</td>\n",
       "    </tr>\n",
       "    <tr>\n",
       "      <th>1098</th>\n",
       "      <td>9.223121</td>\n",
       "      <td>4.871703</td>\n",
       "      <td>1</td>\n",
       "    </tr>\n",
       "    <tr>\n",
       "      <th>1099</th>\n",
       "      <td>10.408945</td>\n",
       "      <td>5.097574</td>\n",
       "      <td>1</td>\n",
       "    </tr>\n",
       "  </tbody>\n",
       "</table>\n",
       "<p>1100 rows × 3 columns</p>\n",
       "</div>"
      ],
      "text/plain": [
       "      wheel_speed  robot_velocity  label\n",
       "0       10.248357       10.699678      0\n",
       "1        9.930868       10.462317      0\n",
       "2       10.323844       10.029815      0\n",
       "3       10.761515        9.676532      0\n",
       "4        9.882923       10.349112      0\n",
       "...           ...             ...    ...\n",
       "1095     9.962118        4.867604      1\n",
       "1096    10.335240        5.085177      1\n",
       "1097     9.464071        5.003830      1\n",
       "1098     9.223121        4.871703      1\n",
       "1099    10.408945        5.097574      1\n",
       "\n",
       "[1100 rows x 3 columns]"
      ]
     },
     "execution_count": 17,
     "metadata": {},
     "output_type": "execute_result"
    },
    {
     "data": {
      "image/png": "[encoded data removed]",
      "text/plain": [
       "<Figure size 640x480 with 1 Axes>"
      ]
     },
     "metadata": {},
     "output_type": "display_data"
    }
   ],
   "source": [
    "import slip_detection\n",
    "\n",
    "\n",
    "df = await slip_detection.generate_wheel_data()\n",
    "df.plot()\n",
    "df"
   ]
  },
  {
   "cell_type": "code",
   "execution_count": null,
   "metadata": {},
   "outputs": [],
   "source": []
  }
 ],
 "metadata": {
  "kernelspec": {
   "display_name": "Python 3",
   "language": "python",
   "name": "python3"
  },
  "language_info": {
   "codemirror_mode": {
    "name": "ipython",
    "version": 3
   },
   "file_extension": ".py",
   "mimetype": "text/x-python",
   "name": "python",
   "nbconvert_exporter": "python",
   "pygments_lexer": "ipython3",
   "version": "3.8.10"
  }
 },
 "nbformat": 4,
 "nbformat_minor": 2
}
